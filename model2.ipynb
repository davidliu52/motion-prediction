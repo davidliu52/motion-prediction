{
 "cells": [
  {
   "cell_type": "code",
   "execution_count": 1373,
   "metadata": {},
   "outputs": [],
   "source": [
    "import numpy as np # linear algebra\n",
    "import pandas as pd # data processing, CSV file I/O (e.g. pd.read_csv)\n",
    "import matplotlib.pyplot as plt\n",
    "from sklearn.preprocessing import MinMaxScaler\n",
    "from tensorflow.keras.models import Sequential\n",
    "from tensorflow.keras.layers import LSTM, Dense, Dropout\n",
    "\n",
    "\n",
    "from sklearn.metrics import r2_score\n",
    "from sklearn.metrics import mean_squared_error\n",
    "from sklearn.metrics import mean_absolute_error"
   ]
  },
  {
   "cell_type": "code",
   "execution_count": 1374,
   "metadata": {},
   "outputs": [],
   "source": [
    "import mlflow\n",
    "import tensorflow as tf\n",
    "\n"
   ]
  },
  {
   "cell_type": "code",
   "execution_count": 1375,
   "metadata": {},
   "outputs": [],
   "source": [
    "data = pd.read_csv(r'D:\\studydata\\machine bild learn\\LSTM\\archive\\DailyDelhiClimateTrain.csv')"
   ]
  },
  {
   "cell_type": "code",
   "execution_count": 1376,
   "metadata": {},
   "outputs": [
    {
     "data": {
      "text/html": [
       "<div>\n",
       "<style scoped>\n",
       "    .dataframe tbody tr th:only-of-type {\n",
       "        vertical-align: middle;\n",
       "    }\n",
       "\n",
       "    .dataframe tbody tr th {\n",
       "        vertical-align: top;\n",
       "    }\n",
       "\n",
       "    .dataframe thead th {\n",
       "        text-align: right;\n",
       "    }\n",
       "</style>\n",
       "<table border=\"1\" class=\"dataframe\">\n",
       "  <thead>\n",
       "    <tr style=\"text-align: right;\">\n",
       "      <th></th>\n",
       "      <th>date</th>\n",
       "      <th>meantemp</th>\n",
       "      <th>humidity</th>\n",
       "      <th>wind_speed</th>\n",
       "      <th>meanpressure</th>\n",
       "    </tr>\n",
       "  </thead>\n",
       "  <tbody>\n",
       "    <tr>\n",
       "      <th>0</th>\n",
       "      <td>2013-01-01</td>\n",
       "      <td>10.000000</td>\n",
       "      <td>84.500000</td>\n",
       "      <td>0.000000</td>\n",
       "      <td>1015.666667</td>\n",
       "    </tr>\n",
       "    <tr>\n",
       "      <th>1</th>\n",
       "      <td>2013-01-02</td>\n",
       "      <td>7.400000</td>\n",
       "      <td>92.000000</td>\n",
       "      <td>2.980000</td>\n",
       "      <td>1017.800000</td>\n",
       "    </tr>\n",
       "    <tr>\n",
       "      <th>2</th>\n",
       "      <td>2013-01-03</td>\n",
       "      <td>7.166667</td>\n",
       "      <td>87.000000</td>\n",
       "      <td>4.633333</td>\n",
       "      <td>1018.666667</td>\n",
       "    </tr>\n",
       "    <tr>\n",
       "      <th>3</th>\n",
       "      <td>2013-01-04</td>\n",
       "      <td>8.666667</td>\n",
       "      <td>71.333333</td>\n",
       "      <td>1.233333</td>\n",
       "      <td>1017.166667</td>\n",
       "    </tr>\n",
       "    <tr>\n",
       "      <th>4</th>\n",
       "      <td>2013-01-05</td>\n",
       "      <td>6.000000</td>\n",
       "      <td>86.833333</td>\n",
       "      <td>3.700000</td>\n",
       "      <td>1016.500000</td>\n",
       "    </tr>\n",
       "  </tbody>\n",
       "</table>\n",
       "</div>"
      ],
      "text/plain": [
       "         date   meantemp   humidity  wind_speed  meanpressure\n",
       "0  2013-01-01  10.000000  84.500000    0.000000   1015.666667\n",
       "1  2013-01-02   7.400000  92.000000    2.980000   1017.800000\n",
       "2  2013-01-03   7.166667  87.000000    4.633333   1018.666667\n",
       "3  2013-01-04   8.666667  71.333333    1.233333   1017.166667\n",
       "4  2013-01-05   6.000000  86.833333    3.700000   1016.500000"
      ]
     },
     "execution_count": 1376,
     "metadata": {},
     "output_type": "execute_result"
    }
   ],
   "source": [
    "data.head()"
   ]
  },
  {
   "cell_type": "code",
   "execution_count": null,
   "metadata": {},
   "outputs": [],
   "source": []
  },
  {
   "cell_type": "code",
   "execution_count": 1377,
   "metadata": {},
   "outputs": [],
   "source": [
    "\n",
    "data = data.drop(data.index[-1])\n",
    "\n",
    "data=data.drop(columns=['date'])\n"
   ]
  },
  {
   "cell_type": "code",
   "execution_count": 1378,
   "metadata": {},
   "outputs": [
    {
     "data": {
      "text/plain": [
       "meantemp        0\n",
       "humidity        0\n",
       "wind_speed      0\n",
       "meanpressure    0\n",
       "dtype: int64"
      ]
     },
     "execution_count": 1378,
     "metadata": {},
     "output_type": "execute_result"
    }
   ],
   "source": [
    "data.isnull().sum()"
   ]
  },
  {
   "cell_type": "code",
   "execution_count": 1379,
   "metadata": {},
   "outputs": [
    {
     "data": {
      "image/png": "[encoded data removed]",
      "text/plain": [
       "<Figure size 432x288 with 1 Axes>"
      ]
     },
     "metadata": {
      "needs_background": "light"
     },
     "output_type": "display_data"
    }
   ],
   "source": [
    "plt.boxplot(data['meantemp'],vert=False)\n",
    "plt.show()"
   ]
  },
  {
   "cell_type": "code",
   "execution_count": 1380,
   "metadata": {},
   "outputs": [
    {
     "data": {
      "image/png": "[encoded data removed]",
      "text/plain": [
       "<Figure size 432x288 with 1 Axes>"
      ]
     },
     "metadata": {
      "needs_background": "light"
     },
     "output_type": "display_data"
    }
   ],
   "source": [
    "plt.boxplot(data['humidity'],vert=False)\n",
    "plt.show()"
   ]
  },
  {
   "cell_type": "code",
   "execution_count": 1381,
   "metadata": {},
   "outputs": [
    {
     "data": {
      "image/png": "[encoded data removed]",
      "text/plain": [
       "<Figure size 432x288 with 1 Axes>"
      ]
     },
     "metadata": {
      "needs_background": "light"
     },
     "output_type": "display_data"
    }
   ],
   "source": [
    "plt.boxplot(data['wind_speed'], vert=False)\n",
    "plt.show()"
   ]
  },
  {
   "cell_type": "code",
   "execution_count": 1382,
   "metadata": {},
   "outputs": [
    {
     "data": {
      "text/plain": [
       "count    1461.000000\n",
       "mean        6.806865\n",
       "std         4.559688\n",
       "min         0.000000\n",
       "25%         3.475000\n",
       "50%         6.250000\n",
       "75%         9.250000\n",
       "max        42.220000\n",
       "Name: wind_speed, dtype: float64"
      ]
     },
     "execution_count": 1382,
     "metadata": {},
     "output_type": "execute_result"
    }
   ],
   "source": [
    "data['wind_speed'].describe()"
   ]
  },
  {
   "cell_type": "code",
   "execution_count": 1383,
   "metadata": {},
   "outputs": [
    {
     "name": "stdout",
     "output_type": "stream",
     "text": [
      "5.875000000000001\n"
     ]
    },
    {
     "data": {
      "text/plain": [
       "0       5.875000\n",
       "1       2.980000\n",
       "2       4.633333\n",
       "3       1.233333\n",
       "4       3.700000\n",
       "          ...   \n",
       "1456    8.335000\n",
       "1457    3.547826\n",
       "1458    6.000000\n",
       "1459    6.266667\n",
       "1460    7.325000\n",
       "Name: wind_speed, Length: 1461, dtype: float64"
      ]
     },
     "execution_count": 1383,
     "metadata": {},
     "output_type": "execute_result"
    }
   ],
   "source": [
    "median = data.loc[data['wind_speed']<15, 'wind_speed'].median()\n",
    "print(median)\n",
    "data.loc[data['wind_speed']<1,'wind_speed'] = np.nan\n",
    "data.loc[data['wind_speed']>15,'wind_speed'] = np.nan\n",
    "data['wind_speed'].fillna(median,inplace=True)\n",
    "data['wind_speed']"
   ]
  },
  {
   "cell_type": "code",
   "execution_count": 1384,
   "metadata": {},
   "outputs": [
    {
     "data": {
      "image/png": "[encoded data removed]",
      "text/plain": [
       "<Figure size 432x288 with 1 Axes>"
      ]
     },
     "metadata": {
      "needs_background": "light"
     },
     "output_type": "display_data"
    }
   ],
   "source": [
    "plt.boxplot(data['wind_speed'],vert=False)\n",
    "plt.show()"
   ]
  },
  {
   "cell_type": "code",
   "execution_count": 1385,
   "metadata": {},
   "outputs": [
    {
     "data": {
      "image/png": "[encoded data removed]",
      "text/plain": [
       "<Figure size 432x288 with 1 Axes>"
      ]
     },
     "metadata": {
      "needs_background": "light"
     },
     "output_type": "display_data"
    }
   ],
   "source": [
    "plt.boxplot(data['meanpressure'], vert=False)\n",
    "plt.show()"
   ]
  },
  {
   "cell_type": "code",
   "execution_count": 1386,
   "metadata": {},
   "outputs": [
    {
     "data": {
      "text/plain": [
       "count    1461.000000\n",
       "mean     1011.101197\n",
       "std       180.293335\n",
       "min        -3.041667\n",
       "25%      1001.571429\n",
       "50%      1008.555556\n",
       "75%      1014.937500\n",
       "max      7679.333333\n",
       "Name: meanpressure, dtype: float64"
      ]
     },
     "execution_count": 1386,
     "metadata": {},
     "output_type": "execute_result"
    }
   ],
   "source": [
    "data['meanpressure'].describe()"
   ]
  },
  {
   "cell_type": "code",
   "execution_count": 1387,
   "metadata": {},
   "outputs": [],
   "source": [
    "median1 = data.loc[data['meanpressure']<1050, 'meanpressure'].median()\n",
    "data.loc[data['meanpressure'] > 1050 , 'meanpressure'] = np.nan #atmospheric pressure usually lies between 760 and 1050 atm\n",
    "data.loc[data['meanpressure'] < 760 , 'meanpressure'] = np.nan\n",
    "data['meanpressure'].fillna(median1,inplace=True)"
   ]
  },
  {
   "cell_type": "code",
   "execution_count": 1388,
   "metadata": {},
   "outputs": [
    {
     "data": {
      "image/png": "[encoded data removed]",
      "text/plain": [
       "<Figure size 432x288 with 1 Axes>"
      ]
     },
     "metadata": {
      "needs_background": "light"
     },
     "output_type": "display_data"
    }
   ],
   "source": [
    "#Boxplot after replacing necessary outliers from meanpressure\n",
    "plt.boxplot(data['meanpressure'], vert=False)\n",
    "plt.show()"
   ]
  },
  {
   "cell_type": "code",
   "execution_count": 1389,
   "metadata": {},
   "outputs": [
    {
     "data": {
      "image/png": "[encoded data removed]",
      "text/plain": [
       "<Figure size 432x288 with 1 Axes>"
      ]
     },
     "metadata": {
      "needs_background": "light"
     },
     "output_type": "display_data"
    }
   ],
   "source": [
    "plt.plot(data['meantemp'])\n",
    "plt.xlabel('Day')\n",
    "plt.ylabel('Mean Temperature')\n",
    "plt.show()"
   ]
  },
  {
   "cell_type": "code",
   "execution_count": 1390,
   "metadata": {},
   "outputs": [],
   "source": [
    "from sklearn.preprocessing import MinMaxScaler\n",
    "scaler=MinMaxScaler()\n",
    "scaler2=MinMaxScaler()\n",
    "scaler3=MinMaxScaler()\n",
    "scaler4=MinMaxScaler()\n",
    "\n",
    "meantemp_scaled = scaler.fit_transform(data[['meantemp']])\n",
    "humidity_scaled = scaler2.fit_transform(data[['humidity']])\n",
    "windspeed_scaled = scaler3.fit_transform(data[['wind_speed']])\n",
    "meanpressure_scaled = scaler4.fit_transform(data[['meanpressure']])"
   ]
  },
  {
   "cell_type": "code",
   "execution_count": 1391,
   "metadata": {},
   "outputs": [
    {
     "name": "stdout",
     "output_type": "stream",
     "text": [
      "1461\n",
      "1461\n",
      "1461\n",
      "1461\n"
     ]
    }
   ],
   "source": [
    "print(len(data['meantemp']))\n",
    "print(len(data['humidity']))\n",
    "print(len(data['wind_speed']))\n",
    "print(len(data['meanpressure']))"
   ]
  },
  {
   "cell_type": "code",
   "execution_count": null,
   "metadata": {},
   "outputs": [],
   "source": []
  },
  {
   "cell_type": "code",
   "execution_count": 1392,
   "metadata": {},
   "outputs": [
    {
     "data": {
      "text/plain": [
       "(1461, 4)"
      ]
     },
     "execution_count": 1392,
     "metadata": {},
     "output_type": "execute_result"
    }
   ],
   "source": [
    "X_scaled = np.concatenate((meantemp_scaled, humidity_scaled, windspeed_scaled, meanpressure_scaled), axis=1)\n",
    "X_scaled.shape"
   ]
  },
  {
   "cell_type": "code",
   "execution_count": 1393,
   "metadata": {},
   "outputs": [
    {
     "name": "stdout",
     "output_type": "stream",
     "text": [
      "range(0, 1431)\n",
      "(1431, 31, 4)\n",
      "-----------------\n",
      "(1431, 30, 4)\n",
      "(1431,)\n"
     ]
    },
    {
     "data": {
      "text/plain": [
       "((1431, 30, 4), (1431,), 3, 1)"
      ]
     },
     "execution_count": 1393,
     "metadata": {},
     "output_type": "execute_result"
    }
   ],
   "source": [
    "x=[]\n",
    "print(range(X_scaled.shape[0]-30))\n",
    "for i in range(X_scaled.shape[0]-30):\n",
    "   \n",
    "    row = X_scaled[i:i+31]\n",
    "    \n",
    "    x.append(row)\n",
    "\n",
    "x=np.array(x)\n",
    "print(x.shape)\n",
    "print('-----------------')\n",
    "X_train = x[:,:-1] #1st 30 values will be considered as x values\n",
    "print(X_train.shape)\n",
    "Y_train = x[:,-1,0] #last value will be considered as our y value\n",
    "print(Y_train.shape)\n",
    "X_train.shape ,Y_train.shape, X_train.ndim, Y_train.ndim"
   ]
  },
  {
   "cell_type": "code",
   "execution_count": 1394,
   "metadata": {},
   "outputs": [],
   "source": [
    "X_train = X_train.reshape(-1,4,30)\n"
   ]
  },
  {
   "cell_type": "code",
   "execution_count": 1395,
   "metadata": {},
   "outputs": [],
   "source": [
    "\n",
    "from tensorflow import keras\n",
    "from tensorflow.keras.callbacks import EarlyStopping\n",
    "from sklearn.model_selection import train_test_split\n",
    "import mlflow.keras\n",
    "\n",
    "# 定义EarlyStopping回调函数\n"
   ]
  },
  {
   "cell_type": "code",
   "execution_count": 1396,
   "metadata": {},
   "outputs": [],
   "source": [
    "data_test = pd.read_csv(r'D:\\studydata\\machine bild learn\\LSTM\\archive\\DailyDelhiClimateTest.csv')\n",
    "new_data = pd.DataFrame()\n",
    "new_data = (data.tail(30)).append(data_test)\n",
    "new_data = new_data.drop(columns=['date'])\n",
    "meantemp_scaled1 = scaler.fit_transform(new_data[['meantemp']])\n",
    "humidity_scaled1 = scaler2.fit_transform(new_data[['humidity']])\n",
    "windspeed_scaled1 = scaler3.fit_transform(new_data[['wind_speed']])\n",
    "meanpressure_scaled1 = scaler4.fit_transform(new_data[['meanpressure']])\n",
    "new_data_scaled = np.concatenate((meantemp_scaled1, humidity_scaled1, windspeed_scaled1, meanpressure_scaled1), axis=1)"
   ]
  },
  {
   "cell_type": "code",
   "execution_count": 1397,
   "metadata": {},
   "outputs": [
    {
     "name": "stdout",
     "output_type": "stream",
     "text": [
      "(57, 4, 30) (57, 4, 30) (57,) (57,)\n"
     ]
    }
   ],
   "source": [
    "x1=[]\n",
    "for i in range(new_data_scaled.shape[0]-30):\n",
    "    row = new_data_scaled[i:i+31]\n",
    "    x1.append(row)\n",
    "    \n",
    "x1=np.array(x1)\n",
    "X_test = x1[:,:-1]\n",
    "Y_test = x1[:,-1,0]\n",
    "X_test = X_test.reshape(-1,4,30)\n",
    "# 划分测试集和验证集\n",
    "X_test, X_val, y_test, y_val = train_test_split(X_test, Y_test, test_size=0.5, random_state=42)\n",
    "print(X_test.shape, X_val.shape, y_test.shape, y_val.shape)"
   ]
  },
  {
   "cell_type": "code",
   "execution_count": null,
   "metadata": {},
   "outputs": [],
   "source": []
  },
  {
   "cell_type": "code",
   "execution_count": 1398,
   "metadata": {},
   "outputs": [],
   "source": [
    "model=Sequential()\n",
    "model.add(LSTM(100, input_shape=(4,30), return_sequences=True))\n",
    "model.add(LSTM(100, return_sequences=True, recurrent_dropout=0.2))\n",
    "model.add(LSTM(100, return_sequences=True, recurrent_dropout=0.2))\n",
    "model.add(LSTM(100, return_sequences=False, recurrent_dropout=0.2))\n",
    "model.add(Dense(1, activation='linear'))\n"
   ]
  },
  {
   "cell_type": "code",
   "execution_count": 1399,
   "metadata": {},
   "outputs": [
    {
     "name": "stdout",
     "output_type": "stream",
     "text": [
      "Epoch 1/50\n",
      "45/45 [==============================] - 4s 37ms/step - loss: 0.3522 - mean_squared_error: 0.3522 - val_loss: 0.0504 - val_mean_squared_error: 0.0504\n",
      "Epoch 2/50\n",
      "45/45 [==============================] - 1s 22ms/step - loss: 0.0127 - mean_squared_error: 0.0127 - val_loss: 0.0185 - val_mean_squared_error: 0.0185\n",
      "Epoch 3/50\n",
      "45/45 [==============================] - 1s 22ms/step - loss: 0.0074 - mean_squared_error: 0.0074 - val_loss: 0.0152 - val_mean_squared_error: 0.0152\n",
      "Epoch 4/50\n",
      "45/45 [==============================] - 1s 22ms/step - loss: 0.0061 - mean_squared_error: 0.0061 - val_loss: 0.0118 - val_mean_squared_error: 0.0118\n",
      "Epoch 5/50\n",
      "45/45 [==============================] - 1s 22ms/step - loss: 0.0056 - mean_squared_error: 0.0056 - val_loss: 0.0104 - val_mean_squared_error: 0.0104\n",
      "Epoch 6/50\n",
      "45/45 [==============================] - 1s 22ms/step - loss: 0.0051 - mean_squared_error: 0.0051 - val_loss: 0.0125 - val_mean_squared_error: 0.0125\n",
      "Epoch 7/50\n",
      "45/45 [==============================] - 1s 22ms/step - loss: 0.0049 - mean_squared_error: 0.0049 - val_loss: 0.0124 - val_mean_squared_error: 0.0124\n",
      "Epoch 8/50\n",
      "45/45 [==============================] - 1s 22ms/step - loss: 0.0054 - mean_squared_error: 0.0054 - val_loss: 0.0095 - val_mean_squared_error: 0.0095\n",
      "Epoch 9/50\n",
      "45/45 [==============================] - 1s 22ms/step - loss: 0.0056 - mean_squared_error: 0.0056 - val_loss: 0.0106 - val_mean_squared_error: 0.0106\n",
      "Epoch 10/50\n",
      "45/45 [==============================] - 1s 22ms/step - loss: 0.0048 - mean_squared_error: 0.0048 - val_loss: 0.0109 - val_mean_squared_error: 0.0109\n",
      "Epoch 11/50\n",
      "45/45 [==============================] - 1s 22ms/step - loss: 0.0041 - mean_squared_error: 0.0041 - val_loss: 0.0112 - val_mean_squared_error: 0.0112\n",
      "Epoch 12/50\n",
      "45/45 [==============================] - 1s 22ms/step - loss: 0.0037 - mean_squared_error: 0.0037 - val_loss: 0.0076 - val_mean_squared_error: 0.0076\n",
      "Epoch 13/50\n",
      "45/45 [==============================] - 1s 22ms/step - loss: 0.0036 - mean_squared_error: 0.0036 - val_loss: 0.0082 - val_mean_squared_error: 0.0082\n",
      "Epoch 14/50\n",
      "45/45 [==============================] - 1s 22ms/step - loss: 0.0034 - mean_squared_error: 0.0034 - val_loss: 0.0093 - val_mean_squared_error: 0.0093\n",
      "Epoch 15/50\n",
      "45/45 [==============================] - 1s 22ms/step - loss: 0.0039 - mean_squared_error: 0.0039 - val_loss: 0.0073 - val_mean_squared_error: 0.0073\n",
      "Epoch 16/50\n",
      "45/45 [==============================] - 1s 22ms/step - loss: 0.0034 - mean_squared_error: 0.0034 - val_loss: 0.0055 - val_mean_squared_error: 0.0055\n",
      "Epoch 17/50\n",
      "45/45 [==============================] - 1s 22ms/step - loss: 0.0035 - mean_squared_error: 0.0035 - val_loss: 0.0070 - val_mean_squared_error: 0.0070\n",
      "Epoch 18/50\n",
      "45/45 [==============================] - 1s 22ms/step - loss: 0.0034 - mean_squared_error: 0.0034 - val_loss: 0.0079 - val_mean_squared_error: 0.0079\n",
      "Epoch 19/50\n",
      "45/45 [==============================] - 1s 22ms/step - loss: 0.0031 - mean_squared_error: 0.0031 - val_loss: 0.0069 - val_mean_squared_error: 0.0069\n",
      "Epoch 20/50\n",
      "45/45 [==============================] - 1s 22ms/step - loss: 0.0030 - mean_squared_error: 0.0030 - val_loss: 0.0052 - val_mean_squared_error: 0.0052\n",
      "Epoch 21/50\n",
      "45/45 [==============================] - 1s 22ms/step - loss: 0.0033 - mean_squared_error: 0.0033 - val_loss: 0.0088 - val_mean_squared_error: 0.0088\n",
      "Epoch 22/50\n",
      "45/45 [==============================] - 1s 21ms/step - loss: 0.0036 - mean_squared_error: 0.0036 - val_loss: 0.0063 - val_mean_squared_error: 0.0063\n",
      "Epoch 23/50\n",
      "45/45 [==============================] - 1s 21ms/step - loss: 0.0032 - mean_squared_error: 0.0032 - val_loss: 0.0061 - val_mean_squared_error: 0.0061\n",
      "Epoch 24/50\n",
      "45/45 [==============================] - 1s 22ms/step - loss: 0.0032 - mean_squared_error: 0.0032 - val_loss: 0.0056 - val_mean_squared_error: 0.0056\n",
      "Epoch 25/50\n",
      "45/45 [==============================] - 1s 21ms/step - loss: 0.0028 - mean_squared_error: 0.0028 - val_loss: 0.0059 - val_mean_squared_error: 0.0059\n",
      "Final training epoch: 25\n"
     ]
    }
   ],
   "source": [
    "early_stopping = EarlyStopping(monitor='val_loss', patience=5, restore_best_weights=True)\n",
    "learning_rate=0.01\n",
    "optimizer = keras.optimizers.Adam(learning_rate=learning_rate)\n",
    "model.compile(optimizer=optimizer, loss='mean_squared_error', metrics=[tf.keras.metrics.MeanSquaredError()])\n",
    "batch_size=32\n",
    "epochs=50\n",
    "history=model.fit(X_train, Y_train, validation_data=(X_val, y_val),batch_size=batch_size, epochs=epochs,callbacks=[early_stopping])\n",
    "\n",
    "final_epoch = early_stopping.stopped_epoch + 1\n",
    "print(\"Final training epoch:\", final_epoch)"
   ]
  },
  {
   "cell_type": "code",
   "execution_count": 1400,
   "metadata": {},
   "outputs": [
    {
     "name": "stdout",
     "output_type": "stream",
     "text": [
      "4.662489480194895\n"
     ]
    }
   ],
   "source": [
    "\n",
    "\n",
    "predictions = model.predict(X_test)\n",
    "#print(predictions.shape)\n",
    "predictions = scaler.inverse_transform(predictions) #converting the predictions to original scale again\n",
    "#print(predictions.shape)\n",
    "\n",
    "Y_test = y_test.reshape(-1,1) #convert Y_test to same shape as predictions\n",
    "#print(Y_test.shape)\n",
    "Y_test = scaler.inverse_transform(Y_test)\n",
    "#print(y_test.shape)\n",
    "\n",
    "r2_score_value  = r2_score(Y_test, predictions)\n",
    "mae = mean_absolute_error(Y_test, predictions)\n",
    "mse = mean_squared_error(Y_test, predictions)\n",
    "print(mse)"
   ]
  },
  {
   "cell_type": "code",
   "execution_count": 1401,
   "metadata": {},
   "outputs": [],
   "source": [
    "mlflow.set_tracking_uri(\"http://127.0.0.1:5000\") \n",
    "mlflow.set_experiment('http_metrics_test') \n",
    "\n",
    "with mlflow.start_run():\n",
    "\n",
    "   mlflow.log_metric(\"mae\", mae)\n",
    "   mlflow.log_metric(\"mse\", mse)\n",
    "   mlflow.log_metric(\"r2_score_value\", r2_score_value)\n",
    " \n",
    "   mlflow.log_param(\"learning_rate\", learning_rate)\n",
    "   mlflow.log_param(\"epochs\", epochs)\n",
    "   mlflow.log_param(\"batch_size\", batch_size)\n",
    "mlflow.end_run()\n"
   ]
  },
  {
   "cell_type": "code",
   "execution_count": 1402,
   "metadata": {},
   "outputs": [
    {
     "name": "stdout",
     "output_type": "stream",
     "text": [
      "0.002788037760183215\n"
     ]
    },
    {
     "data": {
      "image/png": "[encoded data removed]",
      "text/plain": [
       "<Figure size 432x288 with 1 Axes>"
      ]
     },
     "metadata": {
      "needs_background": "light"
     },
     "output_type": "display_data"
    },
    {
     "data": {
      "image/png": "[encoded data removed]",
      "text/plain": [
       "<Figure size 432x288 with 1 Axes>"
      ]
     },
     "metadata": {
      "needs_background": "light"
     },
     "output_type": "display_data"
    }
   ],
   "source": [
    "#（10）获取训练信息\n",
    "history_dict = history.history  # 获取训练的数据字典\n",
    "train_loss = history_dict['loss']  # 训练集损失\n",
    "valid_loss = history_dict['val_loss']  # 验证集损失\n",
    "print(train_loss[-1])\n",
    "#（11）绘制训练损失和验证损失\n",
    "plt.figure()\n",
    "plt.plot(range(final_epoch), train_loss, label='train_loss')  # 训练集损失\n",
    "plt.plot(range(final_epoch), valid_loss, label='val_loss')  # 验证集损失\n",
    "plt.legend()  # 显示标签\n",
    "plt.xlabel('epochs')\n",
    "plt.ylabel('loss')\n",
    "plt.show()\n",
    "\n",
    "plt.plot(Y_test, label='Actual Temperature', color='green')\n",
    "plt.plot(predictions, label='Predicted Temperature', color='red')\n",
    "plt.legend(loc='best')\n",
    "plt.xlabel('Day')\n",
    "plt.ylabel('Mean Temperature')\n",
    "plt.show()"
   ]
  },
  {
   "cell_type": "code",
   "execution_count": 1403,
   "metadata": {},
   "outputs": [
    {
     "name": "stderr",
     "output_type": "stream",
     "text": [
      "WARNING:absl:Found untraced functions such as lstm_cell_160_layer_call_fn, lstm_cell_160_layer_call_and_return_conditional_losses, lstm_cell_160_layer_call_fn, lstm_cell_160_layer_call_and_return_conditional_losses, lstm_cell_160_layer_call_and_return_conditional_losses while saving (showing 5 of 5). These functions will not be directly callable after loading.\n"
     ]
    },
    {
     "name": "stdout",
     "output_type": "stream",
     "text": [
      "INFO:tensorflow:Assets written to: d:\\studydata\\machine bild learn\\LSTM\\model_path\\data\\model\\assets\n"
     ]
    },
    {
     "name": "stderr",
     "output_type": "stream",
     "text": [
      "INFO:tensorflow:Assets written to: d:\\studydata\\machine bild learn\\LSTM\\model_path\\data\\model\\assets\n"
     ]
    }
   ],
   "source": [
    "model_path=r'D:\\studydata\\machine bild learn\\LSTM'\n",
    "mlflow.keras.save_model(model, \"model_path\")\n",
    "\n"
   ]
  },
  {
   "cell_type": "code",
   "execution_count": 1420,
   "metadata": {},
   "outputs": [],
   "source": [
    "loaded_model = mlflow.keras.load_model(r'D:\\studydata\\machine bild learn\\LSTM\\model_path')\n"
   ]
  },
  {
   "cell_type": "code",
   "execution_count": 1422,
   "metadata": {},
   "outputs": [
    {
     "name": "stdout",
     "output_type": "stream",
     "text": [
      "Model: \"sequential_40\"\n",
      "_________________________________________________________________\n",
      "Layer (type)                 Output Shape              Param #   \n",
      "=================================================================\n",
      "lstm_160 (LSTM)              (None, 4, 100)            52400     \n",
      "_________________________________________________________________\n",
      "lstm_161 (LSTM)              (None, 4, 100)            80400     \n",
      "_________________________________________________________________\n",
      "lstm_162 (LSTM)              (None, 4, 100)            80400     \n",
      "_________________________________________________________________\n",
      "lstm_163 (LSTM)              (None, 100)               80400     \n",
      "_________________________________________________________________\n",
      "dense_40 (Dense)             (None, 1)                 101       \n",
      "=================================================================\n",
      "Total params: 293,701\n",
      "Trainable params: 293,701\n",
      "Non-trainable params: 0\n",
      "_________________________________________________________________\n"
     ]
    }
   ],
   "source": [
    "loaded_model.summary()"
   ]
  },
  {
   "attachments": {},
   "cell_type": "markdown",
   "metadata": {},
   "source": [
    "## Reading Testing Data"
   ]
  },
  {
   "cell_type": "code",
   "execution_count": 1404,
   "metadata": {},
   "outputs": [],
   "source": [
    "data_test = pd.read_csv(r'D:\\studydata\\machine bild learn\\LSTM\\archive\\DailyDelhiClimateTest.csv')"
   ]
  },
  {
   "cell_type": "code",
   "execution_count": 1405,
   "metadata": {},
   "outputs": [
    {
     "data": {
      "text/html": [
       "<div>\n",
       "<style scoped>\n",
       "    .dataframe tbody tr th:only-of-type {\n",
       "        vertical-align: middle;\n",
       "    }\n",
       "\n",
       "    .dataframe tbody tr th {\n",
       "        vertical-align: top;\n",
       "    }\n",
       "\n",
       "    .dataframe thead th {\n",
       "        text-align: right;\n",
       "    }\n",
       "</style>\n",
       "<table border=\"1\" class=\"dataframe\">\n",
       "  <thead>\n",
       "    <tr style=\"text-align: right;\">\n",
       "      <th></th>\n",
       "      <th>date</th>\n",
       "      <th>meantemp</th>\n",
       "      <th>humidity</th>\n",
       "      <th>wind_speed</th>\n",
       "      <th>meanpressure</th>\n",
       "    </tr>\n",
       "  </thead>\n",
       "  <tbody>\n",
       "    <tr>\n",
       "      <th>0</th>\n",
       "      <td>2017-01-01</td>\n",
       "      <td>15.913043</td>\n",
       "      <td>85.869565</td>\n",
       "      <td>2.743478</td>\n",
       "      <td>59.000000</td>\n",
       "    </tr>\n",
       "    <tr>\n",
       "      <th>1</th>\n",
       "      <td>2017-01-02</td>\n",
       "      <td>18.500000</td>\n",
       "      <td>77.222222</td>\n",
       "      <td>2.894444</td>\n",
       "      <td>1018.277778</td>\n",
       "    </tr>\n",
       "    <tr>\n",
       "      <th>2</th>\n",
       "      <td>2017-01-03</td>\n",
       "      <td>17.111111</td>\n",
       "      <td>81.888889</td>\n",
       "      <td>4.016667</td>\n",
       "      <td>1018.333333</td>\n",
       "    </tr>\n",
       "    <tr>\n",
       "      <th>3</th>\n",
       "      <td>2017-01-04</td>\n",
       "      <td>18.700000</td>\n",
       "      <td>70.050000</td>\n",
       "      <td>4.545000</td>\n",
       "      <td>1015.700000</td>\n",
       "    </tr>\n",
       "    <tr>\n",
       "      <th>4</th>\n",
       "      <td>2017-01-05</td>\n",
       "      <td>18.388889</td>\n",
       "      <td>74.944444</td>\n",
       "      <td>3.300000</td>\n",
       "      <td>1014.333333</td>\n",
       "    </tr>\n",
       "  </tbody>\n",
       "</table>\n",
       "</div>"
      ],
      "text/plain": [
       "         date   meantemp   humidity  wind_speed  meanpressure\n",
       "0  2017-01-01  15.913043  85.869565    2.743478     59.000000\n",
       "1  2017-01-02  18.500000  77.222222    2.894444   1018.277778\n",
       "2  2017-01-03  17.111111  81.888889    4.016667   1018.333333\n",
       "3  2017-01-04  18.700000  70.050000    4.545000   1015.700000\n",
       "4  2017-01-05  18.388889  74.944444    3.300000   1014.333333"
      ]
     },
     "execution_count": 1405,
     "metadata": {},
     "output_type": "execute_result"
    }
   ],
   "source": [
    "data_test.head()\n"
   ]
  },
  {
   "cell_type": "code",
   "execution_count": 1406,
   "metadata": {},
   "outputs": [
    {
     "data": {
      "text/html": [
       "<div>\n",
       "<style scoped>\n",
       "    .dataframe tbody tr th:only-of-type {\n",
       "        vertical-align: middle;\n",
       "    }\n",
       "\n",
       "    .dataframe tbody tr th {\n",
       "        vertical-align: top;\n",
       "    }\n",
       "\n",
       "    .dataframe thead th {\n",
       "        text-align: right;\n",
       "    }\n",
       "</style>\n",
       "<table border=\"1\" class=\"dataframe\">\n",
       "  <thead>\n",
       "    <tr style=\"text-align: right;\">\n",
       "      <th></th>\n",
       "      <th>date</th>\n",
       "      <th>meantemp</th>\n",
       "      <th>humidity</th>\n",
       "      <th>wind_speed</th>\n",
       "      <th>meanpressure</th>\n",
       "    </tr>\n",
       "  </thead>\n",
       "  <tbody>\n",
       "    <tr>\n",
       "      <th>109</th>\n",
       "      <td>2017-04-20</td>\n",
       "      <td>34.500</td>\n",
       "      <td>27.500000</td>\n",
       "      <td>5.562500</td>\n",
       "      <td>998.625000</td>\n",
       "    </tr>\n",
       "    <tr>\n",
       "      <th>110</th>\n",
       "      <td>2017-04-21</td>\n",
       "      <td>34.250</td>\n",
       "      <td>39.375000</td>\n",
       "      <td>6.962500</td>\n",
       "      <td>999.875000</td>\n",
       "    </tr>\n",
       "    <tr>\n",
       "      <th>111</th>\n",
       "      <td>2017-04-22</td>\n",
       "      <td>32.900</td>\n",
       "      <td>40.900000</td>\n",
       "      <td>8.890000</td>\n",
       "      <td>1001.600000</td>\n",
       "    </tr>\n",
       "    <tr>\n",
       "      <th>112</th>\n",
       "      <td>2017-04-23</td>\n",
       "      <td>32.875</td>\n",
       "      <td>27.500000</td>\n",
       "      <td>9.962500</td>\n",
       "      <td>1002.125000</td>\n",
       "    </tr>\n",
       "    <tr>\n",
       "      <th>113</th>\n",
       "      <td>2017-04-24</td>\n",
       "      <td>32.000</td>\n",
       "      <td>27.142857</td>\n",
       "      <td>12.157143</td>\n",
       "      <td>1004.142857</td>\n",
       "    </tr>\n",
       "  </tbody>\n",
       "</table>\n",
       "</div>"
      ],
      "text/plain": [
       "           date  meantemp   humidity  wind_speed  meanpressure\n",
       "109  2017-04-20    34.500  27.500000    5.562500    998.625000\n",
       "110  2017-04-21    34.250  39.375000    6.962500    999.875000\n",
       "111  2017-04-22    32.900  40.900000    8.890000   1001.600000\n",
       "112  2017-04-23    32.875  27.500000    9.962500   1002.125000\n",
       "113  2017-04-24    32.000  27.142857   12.157143   1004.142857"
      ]
     },
     "execution_count": 1406,
     "metadata": {},
     "output_type": "execute_result"
    }
   ],
   "source": [
    "data_test.tail()"
   ]
  },
  {
   "cell_type": "code",
   "execution_count": 1407,
   "metadata": {},
   "outputs": [],
   "source": [
    "new_data = pd.DataFrame()\n",
    "new_data = (data.tail(30)).append(data_test)\n",
    "new_data = new_data.drop(columns=['date'])"
   ]
  },
  {
   "cell_type": "code",
   "execution_count": 1408,
   "metadata": {},
   "outputs": [
    {
     "data": {
      "text/html": [
       "<div>\n",
       "<style scoped>\n",
       "    .dataframe tbody tr th:only-of-type {\n",
       "        vertical-align: middle;\n",
       "    }\n",
       "\n",
       "    .dataframe tbody tr th {\n",
       "        vertical-align: top;\n",
       "    }\n",
       "\n",
       "    .dataframe thead th {\n",
       "        text-align: right;\n",
       "    }\n",
       "</style>\n",
       "<table border=\"1\" class=\"dataframe\">\n",
       "  <thead>\n",
       "    <tr style=\"text-align: right;\">\n",
       "      <th></th>\n",
       "      <th>meantemp</th>\n",
       "      <th>humidity</th>\n",
       "      <th>wind_speed</th>\n",
       "      <th>meanpressure</th>\n",
       "    </tr>\n",
       "  </thead>\n",
       "  <tbody>\n",
       "    <tr>\n",
       "      <th>1431</th>\n",
       "      <td>19.208333</td>\n",
       "      <td>75.875000</td>\n",
       "      <td>4.945833</td>\n",
       "      <td>1017.750000</td>\n",
       "    </tr>\n",
       "    <tr>\n",
       "      <th>1432</th>\n",
       "      <td>21.208333</td>\n",
       "      <td>52.166667</td>\n",
       "      <td>5.866667</td>\n",
       "      <td>1019.333333</td>\n",
       "    </tr>\n",
       "    <tr>\n",
       "      <th>1433</th>\n",
       "      <td>18.900000</td>\n",
       "      <td>55.250000</td>\n",
       "      <td>5.666667</td>\n",
       "      <td>1019.700000</td>\n",
       "    </tr>\n",
       "    <tr>\n",
       "      <th>1434</th>\n",
       "      <td>18.636364</td>\n",
       "      <td>56.590909</td>\n",
       "      <td>4.952381</td>\n",
       "      <td>1017.045455</td>\n",
       "    </tr>\n",
       "    <tr>\n",
       "      <th>1435</th>\n",
       "      <td>18.538462</td>\n",
       "      <td>69.923077</td>\n",
       "      <td>2.503846</td>\n",
       "      <td>1017.961538</td>\n",
       "    </tr>\n",
       "  </tbody>\n",
       "</table>\n",
       "</div>"
      ],
      "text/plain": [
       "       meantemp   humidity  wind_speed  meanpressure\n",
       "1431  19.208333  75.875000    4.945833   1017.750000\n",
       "1432  21.208333  52.166667    5.866667   1019.333333\n",
       "1433  18.900000  55.250000    5.666667   1019.700000\n",
       "1434  18.636364  56.590909    4.952381   1017.045455\n",
       "1435  18.538462  69.923077    2.503846   1017.961538"
      ]
     },
     "execution_count": 1408,
     "metadata": {},
     "output_type": "execute_result"
    }
   ],
   "source": [
    "new_data.head()"
   ]
  },
  {
   "cell_type": "code",
   "execution_count": 1409,
   "metadata": {},
   "outputs": [
    {
     "data": {
      "text/plain": [
       "(144, 4)"
      ]
     },
     "execution_count": 1409,
     "metadata": {},
     "output_type": "execute_result"
    }
   ],
   "source": [
    "new_data.shape"
   ]
  },
  {
   "cell_type": "code",
   "execution_count": 1410,
   "metadata": {},
   "outputs": [],
   "source": [
    "meantemp_scaled1 = scaler.fit_transform(new_data[['meantemp']])\n",
    "humidity_scaled1 = scaler2.fit_transform(new_data[['humidity']])\n",
    "windspeed_scaled1 = scaler3.fit_transform(new_data[['wind_speed']])\n",
    "meanpressure_scaled1 = scaler4.fit_transform(new_data[['meanpressure']])"
   ]
  },
  {
   "cell_type": "code",
   "execution_count": 1411,
   "metadata": {},
   "outputs": [],
   "source": [
    "new_data_scaled = np.concatenate((meantemp_scaled1, humidity_scaled1, windspeed_scaled1, meanpressure_scaled1), axis=1)"
   ]
  },
  {
   "cell_type": "code",
   "execution_count": 1412,
   "metadata": {},
   "outputs": [
    {
     "data": {
      "text/plain": [
       "((57, 4, 30), (57, 1), 3, 2)"
      ]
     },
     "execution_count": 1412,
     "metadata": {},
     "output_type": "execute_result"
    }
   ],
   "source": [
    "X_test.shape ,Y_test.shape, X_test.ndim, Y_test.ndim\n"
   ]
  },
  {
   "cell_type": "code",
   "execution_count": 1413,
   "metadata": {},
   "outputs": [],
   "source": [
    "predictions = model.predict(X_test)\n",
    "predictions = scaler.inverse_transform(predictions) #converting the predictions to original scale again\n",
    "\n",
    "Y_test = Y_test.reshape(-1,1) #convert Y_test to same shape as predictions\n",
    "Y_test = scaler.inverse_transform(Y_test)"
   ]
  },
  {
   "cell_type": "code",
   "execution_count": 1414,
   "metadata": {},
   "outputs": [
    {
     "data": {
      "text/plain": [
       "array([[391.19642857],\n",
       "       [353.42857143],\n",
       "       [694.85      ],\n",
       "       [536.54545455],\n",
       "       [321.2       ],\n",
       "       [598.5       ],\n",
       "       [504.5       ],\n",
       "       [450.45      ],\n",
       "       [317.47916667],\n",
       "       [379.95      ]])"
      ]
     },
     "execution_count": 1414,
     "metadata": {},
     "output_type": "execute_result"
    }
   ],
   "source": [
    "#first 10 actual values\n",
    "Y_test[:10]"
   ]
  },
  {
   "cell_type": "code",
   "execution_count": 1415,
   "metadata": {},
   "outputs": [
    {
     "data": {
      "text/plain": [
       "array([[18.92524 ],\n",
       "       [15.972657],\n",
       "       [27.033216],\n",
       "       [19.523767],\n",
       "       [14.018525],\n",
       "       [22.78001 ],\n",
       "       [17.648079],\n",
       "       [17.584984],\n",
       "       [13.99282 ],\n",
       "       [16.724703]], dtype=float32)"
      ]
     },
     "execution_count": 1415,
     "metadata": {},
     "output_type": "execute_result"
    }
   ],
   "source": [
    "#first 10 predicted values\n",
    "predictions[:10]"
   ]
  },
  {
   "cell_type": "code",
   "execution_count": 1416,
   "metadata": {},
   "outputs": [
    {
     "data": {
      "text/plain": [
       "526.5565246581373"
      ]
     },
     "execution_count": 1416,
     "metadata": {},
     "output_type": "execute_result"
    }
   ],
   "source": [
    "#Mean Absolute Error \n",
    "mae = mean_absolute_error(Y_test, predictions)\n",
    "mae"
   ]
  },
  {
   "cell_type": "code",
   "execution_count": 1417,
   "metadata": {},
   "outputs": [
    {
     "data": {
      "text/plain": [
       "543.6641521850269"
      ]
     },
     "execution_count": 1417,
     "metadata": {},
     "output_type": "execute_result"
    }
   ],
   "source": [
    "#Root Mean Square Error\n",
    "mse = mean_squared_error(Y_test, predictions)\n",
    "np.sqrt(mse)"
   ]
  },
  {
   "cell_type": "code",
   "execution_count": 1418,
   "metadata": {},
   "outputs": [
    {
     "data": {
      "image/png": "[encoded data removed]",
      "text/plain": [
       "<Figure size 432x288 with 1 Axes>"
      ]
     },
     "metadata": {
      "needs_background": "light"
     },
     "output_type": "display_data"
    }
   ],
   "source": [
    "plt.plot(Y_test, label='Actual Temperature', color='green')\n",
    "plt.plot(predictions, label='Predicted Temperature', color='red')\n",
    "plt.legend(loc='best')\n",
    "plt.xlabel('Day')\n",
    "plt.ylabel('Mean Temperature')\n",
    "plt.show()"
   ]
  },
  {
   "cell_type": "code",
   "execution_count": null,
   "metadata": {},
   "outputs": [],
   "source": []
  },
  {
   "cell_type": "code",
   "execution_count": null,
   "metadata": {},
   "outputs": [],
   "source": []
  },
  {
   "cell_type": "code",
   "execution_count": null,
   "metadata": {},
   "outputs": [],
   "source": []
  },
  {
   "cell_type": "code",
   "execution_count": null,
   "metadata": {},
   "outputs": [],
   "source": []
  },
  {
   "cell_type": "code",
   "execution_count": null,
   "metadata": {},
   "outputs": [],
   "source": []
  }
 ],
 "metadata": {
  "kernelspec": {
   "display_name": "lian1",
   "language": "python",
   "name": "python3"
  },
  "language_info": {
   "codemirror_mode": {
    "name": "ipython",
    "version": 3
   },
   "file_extension": ".py",
   "mimetype": "text/x-python",
   "name": "python",
   "nbconvert_exporter": "python",
   "pygments_lexer": "ipython3",
   "version": "3.6.13"
  },
  "orig_nbformat": 4
 },
 "nbformat": 4,
 "nbformat_minor": 2
}
