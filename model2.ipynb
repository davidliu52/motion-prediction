{
 "cells": [
  {
   "cell_type": "code",
   "execution_count": 147,
   "metadata": {},
   "outputs": [],
   "source": [
    "import numpy as np # linear algebra\n",
    "import pandas as pd # data processing, CSV file I/O (e.g. pd.read_csv)\n",
    "import matplotlib.pyplot as plt\n",
    "from sklearn.preprocessing import MinMaxScaler\n",
    "\n",
    "from tensorflow.keras.models import Sequential\n",
    "from tensorflow.keras.layers import LSTM, Dense, Dropout\n",
    "\n",
    "from sklearn.metrics import r2_score\n",
    "from sklearn.metrics import mean_squared_error\n",
    "from sklearn.metrics import mean_absolute_error"
   ]
  },
  {
   "cell_type": "code",
   "execution_count": 148,
   "metadata": {},
   "outputs": [],
   "source": [
    "data = pd.read_csv(r'D:\\studydata\\machine bild learn\\LSTM\\archive\\DailyDelhiClimateTrain.csv')"
   ]
  },
  {
   "cell_type": "code",
   "execution_count": 149,
   "metadata": {},
   "outputs": [
    {
     "data": {
      "text/html": [
       "<div>\n",
       "<style scoped>\n",
       "    .dataframe tbody tr th:only-of-type {\n",
       "        vertical-align: middle;\n",
       "    }\n",
       "\n",
       "    .dataframe tbody tr th {\n",
       "        vertical-align: top;\n",
       "    }\n",
       "\n",
       "    .dataframe thead th {\n",
       "        text-align: right;\n",
       "    }\n",
       "</style>\n",
       "<table border=\"1\" class=\"dataframe\">\n",
       "  <thead>\n",
       "    <tr style=\"text-align: right;\">\n",
       "      <th></th>\n",
       "      <th>date</th>\n",
       "      <th>meantemp</th>\n",
       "      <th>humidity</th>\n",
       "      <th>wind_speed</th>\n",
       "      <th>meanpressure</th>\n",
       "    </tr>\n",
       "  </thead>\n",
       "  <tbody>\n",
       "    <tr>\n",
       "      <th>0</th>\n",
       "      <td>2013-01-01</td>\n",
       "      <td>10.000000</td>\n",
       "      <td>84.500000</td>\n",
       "      <td>0.000000</td>\n",
       "      <td>1015.666667</td>\n",
       "    </tr>\n",
       "    <tr>\n",
       "      <th>1</th>\n",
       "      <td>2013-01-02</td>\n",
       "      <td>7.400000</td>\n",
       "      <td>92.000000</td>\n",
       "      <td>2.980000</td>\n",
       "      <td>1017.800000</td>\n",
       "    </tr>\n",
       "    <tr>\n",
       "      <th>2</th>\n",
       "      <td>2013-01-03</td>\n",
       "      <td>7.166667</td>\n",
       "      <td>87.000000</td>\n",
       "      <td>4.633333</td>\n",
       "      <td>1018.666667</td>\n",
       "    </tr>\n",
       "    <tr>\n",
       "      <th>3</th>\n",
       "      <td>2013-01-04</td>\n",
       "      <td>8.666667</td>\n",
       "      <td>71.333333</td>\n",
       "      <td>1.233333</td>\n",
       "      <td>1017.166667</td>\n",
       "    </tr>\n",
       "    <tr>\n",
       "      <th>4</th>\n",
       "      <td>2013-01-05</td>\n",
       "      <td>6.000000</td>\n",
       "      <td>86.833333</td>\n",
       "      <td>3.700000</td>\n",
       "      <td>1016.500000</td>\n",
       "    </tr>\n",
       "  </tbody>\n",
       "</table>\n",
       "</div>"
      ],
      "text/plain": [
       "         date   meantemp   humidity  wind_speed  meanpressure\n",
       "0  2013-01-01  10.000000  84.500000    0.000000   1015.666667\n",
       "1  2013-01-02   7.400000  92.000000    2.980000   1017.800000\n",
       "2  2013-01-03   7.166667  87.000000    4.633333   1018.666667\n",
       "3  2013-01-04   8.666667  71.333333    1.233333   1017.166667\n",
       "4  2013-01-05   6.000000  86.833333    3.700000   1016.500000"
      ]
     },
     "execution_count": 149,
     "metadata": {},
     "output_type": "execute_result"
    }
   ],
   "source": [
    "data.head()"
   ]
  },
  {
   "cell_type": "code",
   "execution_count": 150,
   "metadata": {},
   "outputs": [
    {
     "data": {
      "text/html": [
       "<div>\n",
       "<style scoped>\n",
       "    .dataframe tbody tr th:only-of-type {\n",
       "        vertical-align: middle;\n",
       "    }\n",
       "\n",
       "    .dataframe tbody tr th {\n",
       "        vertical-align: top;\n",
       "    }\n",
       "\n",
       "    .dataframe thead th {\n",
       "        text-align: right;\n",
       "    }\n",
       "</style>\n",
       "<table border=\"1\" class=\"dataframe\">\n",
       "  <thead>\n",
       "    <tr style=\"text-align: right;\">\n",
       "      <th></th>\n",
       "      <th>date</th>\n",
       "      <th>meantemp</th>\n",
       "      <th>humidity</th>\n",
       "      <th>wind_speed</th>\n",
       "      <th>meanpressure</th>\n",
       "    </tr>\n",
       "  </thead>\n",
       "  <tbody>\n",
       "    <tr>\n",
       "      <th>1457</th>\n",
       "      <td>2016-12-28</td>\n",
       "      <td>17.217391</td>\n",
       "      <td>68.043478</td>\n",
       "      <td>3.547826</td>\n",
       "      <td>1015.565217</td>\n",
       "    </tr>\n",
       "    <tr>\n",
       "      <th>1458</th>\n",
       "      <td>2016-12-29</td>\n",
       "      <td>15.238095</td>\n",
       "      <td>87.857143</td>\n",
       "      <td>6.000000</td>\n",
       "      <td>1016.904762</td>\n",
       "    </tr>\n",
       "    <tr>\n",
       "      <th>1459</th>\n",
       "      <td>2016-12-30</td>\n",
       "      <td>14.095238</td>\n",
       "      <td>89.666667</td>\n",
       "      <td>6.266667</td>\n",
       "      <td>1017.904762</td>\n",
       "    </tr>\n",
       "    <tr>\n",
       "      <th>1460</th>\n",
       "      <td>2016-12-31</td>\n",
       "      <td>15.052632</td>\n",
       "      <td>87.000000</td>\n",
       "      <td>7.325000</td>\n",
       "      <td>1016.100000</td>\n",
       "    </tr>\n",
       "    <tr>\n",
       "      <th>1461</th>\n",
       "      <td>2017-01-01</td>\n",
       "      <td>10.000000</td>\n",
       "      <td>100.000000</td>\n",
       "      <td>0.000000</td>\n",
       "      <td>1016.000000</td>\n",
       "    </tr>\n",
       "  </tbody>\n",
       "</table>\n",
       "</div>"
      ],
      "text/plain": [
       "            date   meantemp    humidity  wind_speed  meanpressure\n",
       "1457  2016-12-28  17.217391   68.043478    3.547826   1015.565217\n",
       "1458  2016-12-29  15.238095   87.857143    6.000000   1016.904762\n",
       "1459  2016-12-30  14.095238   89.666667    6.266667   1017.904762\n",
       "1460  2016-12-31  15.052632   87.000000    7.325000   1016.100000\n",
       "1461  2017-01-01  10.000000  100.000000    0.000000   1016.000000"
      ]
     },
     "execution_count": 150,
     "metadata": {},
     "output_type": "execute_result"
    }
   ],
   "source": [
    "data.tail()"
   ]
  },
  {
   "cell_type": "code",
   "execution_count": 151,
   "metadata": {},
   "outputs": [],
   "source": [
    "\n",
    "data = data.drop(data.index[-1])\n",
    "\n",
    "data=data.drop(columns=['date'])\n"
   ]
  },
  {
   "cell_type": "code",
   "execution_count": 152,
   "metadata": {},
   "outputs": [
    {
     "data": {
      "text/plain": [
       "meantemp        0\n",
       "humidity        0\n",
       "wind_speed      0\n",
       "meanpressure    0\n",
       "dtype: int64"
      ]
     },
     "execution_count": 152,
     "metadata": {},
     "output_type": "execute_result"
    }
   ],
   "source": [
    "data.isnull().sum()"
   ]
  },
  {
   "cell_type": "code",
   "execution_count": 153,
   "metadata": {},
   "outputs": [
    {
     "data": {
      "text/html": [
       "<div>\n",
       "<style scoped>\n",
       "    .dataframe tbody tr th:only-of-type {\n",
       "        vertical-align: middle;\n",
       "    }\n",
       "\n",
       "    .dataframe tbody tr th {\n",
       "        vertical-align: top;\n",
       "    }\n",
       "\n",
       "    .dataframe thead th {\n",
       "        text-align: right;\n",
       "    }\n",
       "</style>\n",
       "<table border=\"1\" class=\"dataframe\">\n",
       "  <thead>\n",
       "    <tr style=\"text-align: right;\">\n",
       "      <th></th>\n",
       "      <th>meantemp</th>\n",
       "      <th>humidity</th>\n",
       "      <th>wind_speed</th>\n",
       "      <th>meanpressure</th>\n",
       "    </tr>\n",
       "  </thead>\n",
       "  <tbody>\n",
       "    <tr>\n",
       "      <th>0</th>\n",
       "      <td>10.000000</td>\n",
       "      <td>84.500000</td>\n",
       "      <td>0.000000</td>\n",
       "      <td>1015.666667</td>\n",
       "    </tr>\n",
       "    <tr>\n",
       "      <th>1</th>\n",
       "      <td>7.400000</td>\n",
       "      <td>92.000000</td>\n",
       "      <td>2.980000</td>\n",
       "      <td>1017.800000</td>\n",
       "    </tr>\n",
       "    <tr>\n",
       "      <th>2</th>\n",
       "      <td>7.166667</td>\n",
       "      <td>87.000000</td>\n",
       "      <td>4.633333</td>\n",
       "      <td>1018.666667</td>\n",
       "    </tr>\n",
       "    <tr>\n",
       "      <th>3</th>\n",
       "      <td>8.666667</td>\n",
       "      <td>71.333333</td>\n",
       "      <td>1.233333</td>\n",
       "      <td>1017.166667</td>\n",
       "    </tr>\n",
       "    <tr>\n",
       "      <th>4</th>\n",
       "      <td>6.000000</td>\n",
       "      <td>86.833333</td>\n",
       "      <td>3.700000</td>\n",
       "      <td>1016.500000</td>\n",
       "    </tr>\n",
       "  </tbody>\n",
       "</table>\n",
       "</div>"
      ],
      "text/plain": [
       "    meantemp   humidity  wind_speed  meanpressure\n",
       "0  10.000000  84.500000    0.000000   1015.666667\n",
       "1   7.400000  92.000000    2.980000   1017.800000\n",
       "2   7.166667  87.000000    4.633333   1018.666667\n",
       "3   8.666667  71.333333    1.233333   1017.166667\n",
       "4   6.000000  86.833333    3.700000   1016.500000"
      ]
     },
     "execution_count": 153,
     "metadata": {},
     "output_type": "execute_result"
    }
   ],
   "source": [
    "data.head()"
   ]
  },
  {
   "cell_type": "code",
   "execution_count": 154,
   "metadata": {},
   "outputs": [
    {
     "data": {
      "image/png": "[encoded data removed]",
      "text/plain": [
       "<Figure size 640x480 with 1 Axes>"
      ]
     },
     "metadata": {},
     "output_type": "display_data"
    }
   ],
   "source": [
    "plt.boxplot(data['meantemp'],vert=False)\n",
    "plt.show()"
   ]
  },
  {
   "cell_type": "code",
   "execution_count": 155,
   "metadata": {},
   "outputs": [
    {
     "data": {
      "image/png": "[encoded data removed]",
      "text/plain": [
       "<Figure size 640x480 with 1 Axes>"
      ]
     },
     "metadata": {},
     "output_type": "display_data"
    }
   ],
   "source": [
    "plt.boxplot(data['humidity'],vert=False)\n",
    "plt.show()"
   ]
  },
  {
   "cell_type": "code",
   "execution_count": 156,
   "metadata": {},
   "outputs": [
    {
     "data": {
      "image/png": "[encoded data removed]",
      "text/plain": [
       "<Figure size 640x480 with 1 Axes>"
      ]
     },
     "metadata": {},
     "output_type": "display_data"
    }
   ],
   "source": [
    "plt.boxplot(data['wind_speed'], vert=False)\n",
    "plt.show()"
   ]
  },
  {
   "cell_type": "code",
   "execution_count": 157,
   "metadata": {},
   "outputs": [
    {
     "data": {
      "text/plain": [
       "count    1461.000000\n",
       "mean        6.806865\n",
       "std         4.559688\n",
       "min         0.000000\n",
       "25%         3.475000\n",
       "50%         6.250000\n",
       "75%         9.250000\n",
       "max        42.220000\n",
       "Name: wind_speed, dtype: float64"
      ]
     },
     "execution_count": 157,
     "metadata": {},
     "output_type": "execute_result"
    }
   ],
   "source": [
    "data['wind_speed'].describe()"
   ]
  },
  {
   "cell_type": "code",
   "execution_count": 158,
   "metadata": {},
   "outputs": [
    {
     "name": "stdout",
     "output_type": "stream",
     "text": [
      "5.875000000000001\n"
     ]
    },
    {
     "data": {
      "text/plain": [
       "0       5.875000\n",
       "1       2.980000\n",
       "2       4.633333\n",
       "3       1.233333\n",
       "4       3.700000\n",
       "          ...   \n",
       "1456    8.335000\n",
       "1457    3.547826\n",
       "1458    6.000000\n",
       "1459    6.266667\n",
       "1460    7.325000\n",
       "Name: wind_speed, Length: 1461, dtype: float64"
      ]
     },
     "execution_count": 158,
     "metadata": {},
     "output_type": "execute_result"
    }
   ],
   "source": [
    "median = data.loc[data['wind_speed']<15, 'wind_speed'].median()\n",
    "print(median)\n",
    "data.loc[data['wind_speed']<1,'wind_speed'] = np.nan\n",
    "data.loc[data['wind_speed']>15,'wind_speed'] = np.nan\n",
    "data['wind_speed'].fillna(median,inplace=True)\n",
    "data['wind_speed']"
   ]
  },
  {
   "cell_type": "code",
   "execution_count": 159,
   "metadata": {},
   "outputs": [
    {
     "data": {
      "image/png": "[encoded data removed]",
      "text/plain": [
       "<Figure size 640x480 with 1 Axes>"
      ]
     },
     "metadata": {},
     "output_type": "display_data"
    }
   ],
   "source": [
    "plt.boxplot(data['wind_speed'],vert=False)\n",
    "plt.show()"
   ]
  },
  {
   "cell_type": "code",
   "execution_count": 160,
   "metadata": {},
   "outputs": [
    {
     "data": {
      "image/png": "[encoded data removed]",
      "text/plain": [
       "<Figure size 640x480 with 1 Axes>"
      ]
     },
     "metadata": {},
     "output_type": "display_data"
    }
   ],
   "source": [
    "plt.boxplot(data['meanpressure'], vert=False)\n",
    "plt.show()"
   ]
  },
  {
   "cell_type": "code",
   "execution_count": 161,
   "metadata": {},
   "outputs": [
    {
     "data": {
      "text/plain": [
       "count    1461.000000\n",
       "mean     1011.101197\n",
       "std       180.293335\n",
       "min        -3.041667\n",
       "25%      1001.571429\n",
       "50%      1008.555556\n",
       "75%      1014.937500\n",
       "max      7679.333333\n",
       "Name: meanpressure, dtype: float64"
      ]
     },
     "execution_count": 161,
     "metadata": {},
     "output_type": "execute_result"
    }
   ],
   "source": [
    "data['meanpressure'].describe()"
   ]
  },
  {
   "cell_type": "code",
   "execution_count": 162,
   "metadata": {},
   "outputs": [],
   "source": [
    "median1 = data.loc[data['meanpressure']<1050, 'meanpressure'].median()\n",
    "data.loc[data['meanpressure'] > 1050 , 'meanpressure'] = np.nan #atmospheric pressure usually lies between 760 and 1050 atm\n",
    "data.loc[data['meanpressure'] < 760 , 'meanpressure'] = np.nan\n",
    "data['meanpressure'].fillna(median1,inplace=True)"
   ]
  },
  {
   "cell_type": "code",
   "execution_count": 163,
   "metadata": {},
   "outputs": [
    {
     "data": {
      "image/png": "[encoded data removed]",
      "text/plain": [
       "<Figure size 640x480 with 1 Axes>"
      ]
     },
     "metadata": {},
     "output_type": "display_data"
    }
   ],
   "source": [
    "#Boxplot after replacing necessary outliers from meanpressure\n",
    "plt.boxplot(data['meanpressure'], vert=False)\n",
    "plt.show()"
   ]
  },
  {
   "cell_type": "code",
   "execution_count": 164,
   "metadata": {},
   "outputs": [
    {
     "data": {
      "image/png": "[encoded data removed]",
      "text/plain": [
       "<Figure size 640x480 with 1 Axes>"
      ]
     },
     "metadata": {},
     "output_type": "display_data"
    }
   ],
   "source": [
    "plt.plot(data['meantemp'])\n",
    "plt.xlabel('Day')\n",
    "plt.ylabel('Mean Temperature')\n",
    "plt.show()"
   ]
  },
  {
   "cell_type": "code",
   "execution_count": 165,
   "metadata": {},
   "outputs": [],
   "source": [
    "from sklearn.preprocessing import MinMaxScaler\n",
    "scaler=MinMaxScaler()\n",
    "scaler2=MinMaxScaler()\n",
    "scaler3=MinMaxScaler()\n",
    "scaler4=MinMaxScaler()\n",
    "\n",
    "meantemp_scaled = scaler.fit_transform(data[['meantemp']])\n",
    "humidity_scaled = scaler2.fit_transform(data[['humidity']])\n",
    "windspeed_scaled = scaler3.fit_transform(data[['wind_speed']])\n",
    "meanpressure_scaled = scaler4.fit_transform(data[['meanpressure']])"
   ]
  },
  {
   "cell_type": "code",
   "execution_count": 166,
   "metadata": {},
   "outputs": [
    {
     "name": "stdout",
     "output_type": "stream",
     "text": [
      "1461\n",
      "1461\n",
      "1461\n",
      "1461\n"
     ]
    }
   ],
   "source": [
    "print(len(data['meantemp']))\n",
    "print(len(data['humidity']))\n",
    "print(len(data['wind_speed']))\n",
    "print(len(data['meanpressure']))"
   ]
  },
  {
   "cell_type": "code",
   "execution_count": null,
   "metadata": {},
   "outputs": [],
   "source": []
  },
  {
   "cell_type": "code",
   "execution_count": 167,
   "metadata": {},
   "outputs": [
    {
     "data": {
      "text/plain": [
       "(1461, 4)"
      ]
     },
     "execution_count": 167,
     "metadata": {},
     "output_type": "execute_result"
    }
   ],
   "source": [
    "X_scaled = np.concatenate((meantemp_scaled, humidity_scaled, windspeed_scaled, meanpressure_scaled), axis=1)\n",
    "X_scaled.shape"
   ]
  },
  {
   "cell_type": "code",
   "execution_count": 176,
   "metadata": {},
   "outputs": [
    {
     "name": "stdout",
     "output_type": "stream",
     "text": [
      "(1431, 31, 4)\n",
      "-----------------\n",
      "[[[0.12227074 0.84037162 0.34678663 0.91365777]\n",
      "  [0.04279476 0.92905405 0.13840617 0.93877551]\n",
      "  [0.0356623  0.86993243 0.25741217 0.94897959]\n",
      "  ...\n",
      "  [0.27001456 0.50337838 0.19023136 0.93916797]\n",
      "  [0.24836245 0.61570946 0.15694087 0.92494113]\n",
      "  [0.26637555 0.67398649 0.         0.93944831]]\n",
      "\n",
      " [[0.04279476 0.92905405 0.13840617 0.93877551]\n",
      "  [0.0356623  0.86993243 0.25741217 0.94897959]\n",
      "  [0.08151383 0.68468468 0.01268209 0.93131868]\n",
      "  ...\n",
      "  [0.24836245 0.61570946 0.15694087 0.92494113]\n",
      "  [0.26637555 0.67398649 0.         0.93944831]\n",
      "  [0.31179039 0.61689189 0.13696658 0.94583987]]\n",
      "\n",
      " [[0.0356623  0.86993243 0.25741217 0.94897959]\n",
      "  [0.08151383 0.68468468 0.01268209 0.93131868]\n",
      "  [0.         0.86796171 0.19023136 0.92346939]\n",
      "  ...\n",
      "  [0.26637555 0.67398649 0.         0.93944831]\n",
      "  [0.31179039 0.61689189 0.13696658 0.94583987]\n",
      "  [0.30567686 0.70439189 0.0837018  0.91758242]]\n",
      "\n",
      " ...\n",
      "\n",
      " [[0.47719554 0.4764452  0.01308198 0.90580848]\n",
      "  [0.42396051 0.78819036 0.23122834 0.92474916]\n",
      "  [0.42030568 0.83445946 0.11855184 0.92788462]\n",
      "  ...\n",
      "  [0.34061135 0.72635135 0.55618996 0.92879569]\n",
      "  [0.33165939 0.63994932 0.52385604 0.93171115]\n",
      "  [0.34288969 0.64578437 0.17927797 0.91246331]]\n",
      "\n",
      " [[0.42396051 0.78819036 0.23122834 0.92474916]\n",
      "  [0.42030568 0.83445946 0.11855184 0.92788462]\n",
      "  [0.40374818 0.73838682 0.27990574 0.93818681]\n",
      "  ...\n",
      "  [0.33165939 0.63994932 0.52385604 0.93171115]\n",
      "  [0.34288969 0.64578437 0.17927797 0.91246331]\n",
      "  [0.28238719 0.88006757 0.35578406 0.92823503]]\n",
      "\n",
      " [[0.42030568 0.83445946 0.11855184 0.92788462]\n",
      "  [0.40374818 0.73838682 0.27990574 0.93818681]\n",
      "  [0.46488355 0.4580518  0.3461868  0.95682889]\n",
      "  ...\n",
      "  [0.34288969 0.64578437 0.17927797 0.91246331]\n",
      "  [0.28238719 0.88006757 0.35578406 0.92823503]\n",
      "  [0.24745269 0.90146396 0.37497858 0.94000897]]]\n",
      "[0.31179039 0.30567686 0.31441048 ... 0.28238719 0.24745269 0.276718  ]\n"
     ]
    },
    {
     "data": {
      "text/plain": [
       "((1431, 30, 4), (1431,), 3, 1)"
      ]
     },
     "execution_count": 176,
     "metadata": {},
     "output_type": "execute_result"
    }
   ],
   "source": [
    "x=[]\n",
    "for i in range(X_scaled.shape[0]-30):\n",
    "   \n",
    "    row = X_scaled[i:i+31]\n",
    "    \n",
    "    x.append(row)\n",
    "\n",
    "x=np.array(x)\n",
    "print(x.shape)\n",
    "print('-----------------')\n",
    "X_train = x[:,:-1] #1st 30 values will be considered as x values\n",
    "print(X_train)\n",
    "Y_train = x[:,-1,0] #last value will be considered as our y value\n",
    "print(Y_train)\n",
    "X_train.shape ,Y_train.shape, X_train.ndim, Y_train.ndim"
   ]
  },
  {
   "cell_type": "code",
   "execution_count": 177,
   "metadata": {},
   "outputs": [],
   "source": [
    "X_train = X_train.reshape(-1,4,30)\n"
   ]
  },
  {
   "cell_type": "code",
   "execution_count": 185,
   "metadata": {},
   "outputs": [
    {
     "name": "stdout",
     "output_type": "stream",
     "text": [
      "WARNING:tensorflow:Layer lstm_9 will not use cuDNN kernel since it doesn't meet the cuDNN kernel criteria. It will use generic GPU kernel as fallback when running on GPU\n",
      "WARNING:tensorflow:Layer lstm_10 will not use cuDNN kernel since it doesn't meet the cuDNN kernel criteria. It will use generic GPU kernel as fallback when running on GPU\n",
      "WARNING:tensorflow:Layer lstm_11 will not use cuDNN kernel since it doesn't meet the cuDNN kernel criteria. It will use generic GPU kernel as fallback when running on GPU\n"
     ]
    }
   ],
   "source": [
    "model=Sequential()\n",
    "model.add(LSTM(100, input_shape=(4,30), return_sequences=True))\n",
    "model.add(LSTM(100, return_sequences=True, recurrent_dropout=0.2))\n",
    "model.add(LSTM(100, return_sequences=True, recurrent_dropout=0.2))\n",
    "model.add(LSTM(100, return_sequences=False, recurrent_dropout=0.2))\n",
    "model.add(Dense(1, activation='linear'))\n",
    "\n",
    "model.compile(optimizer='adam', loss='mean_squared_error')\n",
    "\n"
   ]
  },
  {
   "cell_type": "code",
   "execution_count": 210,
   "metadata": {},
   "outputs": [
    {
     "name": "stdout",
     "output_type": "stream",
     "text": [
      "Epoch 1/50\n",
      "45/45 [==============================] - 1s 29ms/step - loss: 0.0052\n",
      "Epoch 2/50\n",
      "45/45 [==============================] - 1s 26ms/step - loss: 0.0046\n",
      "Epoch 3/50\n",
      "45/45 [==============================] - 1s 26ms/step - loss: 0.0039\n",
      "Epoch 4/50\n",
      "45/45 [==============================] - 1s 26ms/step - loss: 0.0037\n",
      "Epoch 5/50\n",
      "45/45 [==============================] - 1s 26ms/step - loss: 0.0039\n",
      "Epoch 6/50\n",
      "45/45 [==============================] - 1s 25ms/step - loss: 0.0046\n",
      "Epoch 7/50\n",
      "45/45 [==============================] - 1s 25ms/step - loss: 0.0035\n",
      "Epoch 8/50\n",
      "45/45 [==============================] - 1s 25ms/step - loss: 0.0034\n",
      "Epoch 9/50\n",
      "45/45 [==============================] - 1s 25ms/step - loss: 0.0034\n",
      "Epoch 10/50\n",
      "45/45 [==============================] - 1s 26ms/step - loss: 0.0035\n",
      "Epoch 11/50\n",
      "45/45 [==============================] - 1s 25ms/step - loss: 0.0032\n",
      "Epoch 12/50\n",
      "45/45 [==============================] - 1s 26ms/step - loss: 0.0032\n",
      "Epoch 13/50\n",
      "45/45 [==============================] - 1s 26ms/step - loss: 0.0035\n",
      "Epoch 14/50\n",
      "45/45 [==============================] - 1s 25ms/step - loss: 0.0031\n",
      "Epoch 15/50\n",
      "45/45 [==============================] - 1s 26ms/step - loss: 0.0034\n",
      "Epoch 16/50\n",
      "45/45 [==============================] - 1s 26ms/step - loss: 0.0031\n",
      "Epoch 17/50\n",
      "45/45 [==============================] - 1s 25ms/step - loss: 0.0034\n",
      "Epoch 18/50\n",
      "45/45 [==============================] - 1s 25ms/step - loss: 0.0031\n",
      "Epoch 19/50\n",
      "45/45 [==============================] - 1s 25ms/step - loss: 0.0030\n",
      "Epoch 20/50\n",
      "45/45 [==============================] - 1s 27ms/step - loss: 0.0029\n",
      "Epoch 21/50\n",
      "45/45 [==============================] - 1s 26ms/step - loss: 0.0030\n",
      "Epoch 22/50\n",
      "45/45 [==============================] - 1s 25ms/step - loss: 0.0030\n",
      "Epoch 23/50\n",
      "45/45 [==============================] - 1s 26ms/step - loss: 0.0033\n",
      "Epoch 24/50\n",
      "45/45 [==============================] - 1s 26ms/step - loss: 0.0028\n",
      "Epoch 25/50\n",
      "45/45 [==============================] - 1s 25ms/step - loss: 0.0029\n",
      "Epoch 26/50\n",
      "45/45 [==============================] - 1s 25ms/step - loss: 0.0030\n",
      "Epoch 27/50\n",
      "45/45 [==============================] - 1s 25ms/step - loss: 0.0029\n",
      "Epoch 28/50\n",
      "45/45 [==============================] - 1s 25ms/step - loss: 0.0029\n",
      "Epoch 29/50\n",
      "45/45 [==============================] - 1s 26ms/step - loss: 0.0029\n",
      "Epoch 30/50\n",
      "45/45 [==============================] - 1s 26ms/step - loss: 0.0028\n",
      "Epoch 31/50\n",
      "45/45 [==============================] - 1s 25ms/step - loss: 0.0029\n",
      "Epoch 32/50\n",
      "45/45 [==============================] - 1s 26ms/step - loss: 0.0028\n",
      "Epoch 33/50\n",
      "45/45 [==============================] - 1s 25ms/step - loss: 0.0029\n",
      "Epoch 34/50\n",
      "45/45 [==============================] - 1s 25ms/step - loss: 0.0030\n",
      "Epoch 35/50\n",
      "45/45 [==============================] - 1s 26ms/step - loss: 0.0028\n",
      "Epoch 36/50\n",
      "45/45 [==============================] - 1s 26ms/step - loss: 0.0026\n",
      "Epoch 37/50\n",
      "45/45 [==============================] - 1s 26ms/step - loss: 0.0026\n",
      "Epoch 38/50\n",
      "45/45 [==============================] - 1s 25ms/step - loss: 0.0028\n",
      "Epoch 39/50\n",
      "45/45 [==============================] - 1s 26ms/step - loss: 0.0030\n",
      "Epoch 40/50\n",
      "45/45 [==============================] - 1s 26ms/step - loss: 0.0026\n",
      "Epoch 41/50\n",
      "45/45 [==============================] - 1s 26ms/step - loss: 0.0027\n",
      "Epoch 42/50\n",
      "45/45 [==============================] - 1s 26ms/step - loss: 0.0026\n",
      "Epoch 43/50\n",
      "45/45 [==============================] - 1s 25ms/step - loss: 0.0029\n",
      "Epoch 44/50\n",
      "45/45 [==============================] - 1s 26ms/step - loss: 0.0028\n",
      "Epoch 45/50\n",
      "45/45 [==============================] - 1s 26ms/step - loss: 0.0028\n",
      "Epoch 46/50\n",
      "45/45 [==============================] - 1s 26ms/step - loss: 0.0030\n",
      "Epoch 47/50\n",
      "45/45 [==============================] - 1s 25ms/step - loss: 0.0027\n",
      "Epoch 48/50\n",
      "45/45 [==============================] - 1s 25ms/step - loss: 0.0027\n",
      "Epoch 49/50\n",
      "45/45 [==============================] - 1s 26ms/step - loss: 0.0028\n",
      "Epoch 50/50\n",
      "45/45 [==============================] - 1s 26ms/step - loss: 0.0026\n"
     ]
    }
   ],
   "source": [
    "history=model.fit(X_train, Y_train, batch_size=32, epochs=50)"
   ]
  },
  {
   "cell_type": "code",
   "execution_count": 211,
   "metadata": {},
   "outputs": [
    {
     "data": {
      "image/png": "[encoded data removed]",
      "text/plain": [
       "<Figure size 640x480 with 1 Axes>"
      ]
     },
     "metadata": {},
     "output_type": "display_data"
    }
   ],
   "source": [
    "#（10）获取训练信息\n",
    "history_dict = history.history  # 获取训练的数据字典\n",
    "train_loss = history_dict['loss']  # 训练集损失\n",
    "#accuracy = history_dict['accuracy']  # 验证集损失\n",
    " \n",
    "#（11）绘制训练损失和验证损失\n",
    "plt.figure()\n",
    "plt.plot(range(50), train_loss, label='train_loss')  # 训练集损失\n",
    "#plt.plot(range(5), accuracy, label='accuracy')  # 验证集损失\n",
    "plt.legend()  # 显示标签\n",
    "plt.xlabel('epochs')\n",
    "plt.ylabel('loss')\n",
    "plt.show()"
   ]
  },
  {
   "cell_type": "code",
   "execution_count": null,
   "metadata": {},
   "outputs": [],
   "source": []
  },
  {
   "attachments": {},
   "cell_type": "markdown",
   "metadata": {},
   "source": [
    "## Reading Testing Data"
   ]
  },
  {
   "cell_type": "code",
   "execution_count": 214,
   "metadata": {},
   "outputs": [],
   "source": [
    "data_test = pd.read_csv(r'D:\\studydata\\machine bild learn\\LSTM\\archive\\DailyDelhiClimateTest.csv')"
   ]
  },
  {
   "cell_type": "code",
   "execution_count": 215,
   "metadata": {},
   "outputs": [
    {
     "data": {
      "text/html": [
       "<div>\n",
       "<style scoped>\n",
       "    .dataframe tbody tr th:only-of-type {\n",
       "        vertical-align: middle;\n",
       "    }\n",
       "\n",
       "    .dataframe tbody tr th {\n",
       "        vertical-align: top;\n",
       "    }\n",
       "\n",
       "    .dataframe thead th {\n",
       "        text-align: right;\n",
       "    }\n",
       "</style>\n",
       "<table border=\"1\" class=\"dataframe\">\n",
       "  <thead>\n",
       "    <tr style=\"text-align: right;\">\n",
       "      <th></th>\n",
       "      <th>date</th>\n",
       "      <th>meantemp</th>\n",
       "      <th>humidity</th>\n",
       "      <th>wind_speed</th>\n",
       "      <th>meanpressure</th>\n",
       "    </tr>\n",
       "  </thead>\n",
       "  <tbody>\n",
       "    <tr>\n",
       "      <th>0</th>\n",
       "      <td>2017-01-01</td>\n",
       "      <td>15.913043</td>\n",
       "      <td>85.869565</td>\n",
       "      <td>2.743478</td>\n",
       "      <td>59.000000</td>\n",
       "    </tr>\n",
       "    <tr>\n",
       "      <th>1</th>\n",
       "      <td>2017-01-02</td>\n",
       "      <td>18.500000</td>\n",
       "      <td>77.222222</td>\n",
       "      <td>2.894444</td>\n",
       "      <td>1018.277778</td>\n",
       "    </tr>\n",
       "    <tr>\n",
       "      <th>2</th>\n",
       "      <td>2017-01-03</td>\n",
       "      <td>17.111111</td>\n",
       "      <td>81.888889</td>\n",
       "      <td>4.016667</td>\n",
       "      <td>1018.333333</td>\n",
       "    </tr>\n",
       "    <tr>\n",
       "      <th>3</th>\n",
       "      <td>2017-01-04</td>\n",
       "      <td>18.700000</td>\n",
       "      <td>70.050000</td>\n",
       "      <td>4.545000</td>\n",
       "      <td>1015.700000</td>\n",
       "    </tr>\n",
       "    <tr>\n",
       "      <th>4</th>\n",
       "      <td>2017-01-05</td>\n",
       "      <td>18.388889</td>\n",
       "      <td>74.944444</td>\n",
       "      <td>3.300000</td>\n",
       "      <td>1014.333333</td>\n",
       "    </tr>\n",
       "  </tbody>\n",
       "</table>\n",
       "</div>"
      ],
      "text/plain": [
       "         date   meantemp   humidity  wind_speed  meanpressure\n",
       "0  2017-01-01  15.913043  85.869565    2.743478     59.000000\n",
       "1  2017-01-02  18.500000  77.222222    2.894444   1018.277778\n",
       "2  2017-01-03  17.111111  81.888889    4.016667   1018.333333\n",
       "3  2017-01-04  18.700000  70.050000    4.545000   1015.700000\n",
       "4  2017-01-05  18.388889  74.944444    3.300000   1014.333333"
      ]
     },
     "execution_count": 215,
     "metadata": {},
     "output_type": "execute_result"
    }
   ],
   "source": [
    "data_test.head()\n"
   ]
  },
  {
   "cell_type": "code",
   "execution_count": 216,
   "metadata": {},
   "outputs": [
    {
     "data": {
      "text/html": [
       "<div>\n",
       "<style scoped>\n",
       "    .dataframe tbody tr th:only-of-type {\n",
       "        vertical-align: middle;\n",
       "    }\n",
       "\n",
       "    .dataframe tbody tr th {\n",
       "        vertical-align: top;\n",
       "    }\n",
       "\n",
       "    .dataframe thead th {\n",
       "        text-align: right;\n",
       "    }\n",
       "</style>\n",
       "<table border=\"1\" class=\"dataframe\">\n",
       "  <thead>\n",
       "    <tr style=\"text-align: right;\">\n",
       "      <th></th>\n",
       "      <th>date</th>\n",
       "      <th>meantemp</th>\n",
       "      <th>humidity</th>\n",
       "      <th>wind_speed</th>\n",
       "      <th>meanpressure</th>\n",
       "    </tr>\n",
       "  </thead>\n",
       "  <tbody>\n",
       "    <tr>\n",
       "      <th>109</th>\n",
       "      <td>2017-04-20</td>\n",
       "      <td>34.500</td>\n",
       "      <td>27.500000</td>\n",
       "      <td>5.562500</td>\n",
       "      <td>998.625000</td>\n",
       "    </tr>\n",
       "    <tr>\n",
       "      <th>110</th>\n",
       "      <td>2017-04-21</td>\n",
       "      <td>34.250</td>\n",
       "      <td>39.375000</td>\n",
       "      <td>6.962500</td>\n",
       "      <td>999.875000</td>\n",
       "    </tr>\n",
       "    <tr>\n",
       "      <th>111</th>\n",
       "      <td>2017-04-22</td>\n",
       "      <td>32.900</td>\n",
       "      <td>40.900000</td>\n",
       "      <td>8.890000</td>\n",
       "      <td>1001.600000</td>\n",
       "    </tr>\n",
       "    <tr>\n",
       "      <th>112</th>\n",
       "      <td>2017-04-23</td>\n",
       "      <td>32.875</td>\n",
       "      <td>27.500000</td>\n",
       "      <td>9.962500</td>\n",
       "      <td>1002.125000</td>\n",
       "    </tr>\n",
       "    <tr>\n",
       "      <th>113</th>\n",
       "      <td>2017-04-24</td>\n",
       "      <td>32.000</td>\n",
       "      <td>27.142857</td>\n",
       "      <td>12.157143</td>\n",
       "      <td>1004.142857</td>\n",
       "    </tr>\n",
       "  </tbody>\n",
       "</table>\n",
       "</div>"
      ],
      "text/plain": [
       "           date  meantemp   humidity  wind_speed  meanpressure\n",
       "109  2017-04-20    34.500  27.500000    5.562500    998.625000\n",
       "110  2017-04-21    34.250  39.375000    6.962500    999.875000\n",
       "111  2017-04-22    32.900  40.900000    8.890000   1001.600000\n",
       "112  2017-04-23    32.875  27.500000    9.962500   1002.125000\n",
       "113  2017-04-24    32.000  27.142857   12.157143   1004.142857"
      ]
     },
     "execution_count": 216,
     "metadata": {},
     "output_type": "execute_result"
    }
   ],
   "source": [
    "data_test.tail()"
   ]
  },
  {
   "cell_type": "code",
   "execution_count": 217,
   "metadata": {},
   "outputs": [],
   "source": [
    "new_data = pd.DataFrame()\n",
    "new_data = (data.tail(30)).append(data_test)\n",
    "new_data = new_data.drop(columns=['date'])"
   ]
  },
  {
   "cell_type": "code",
   "execution_count": 196,
   "metadata": {},
   "outputs": [
    {
     "data": {
      "text/html": [
       "<div>\n",
       "<style scoped>\n",
       "    .dataframe tbody tr th:only-of-type {\n",
       "        vertical-align: middle;\n",
       "    }\n",
       "\n",
       "    .dataframe tbody tr th {\n",
       "        vertical-align: top;\n",
       "    }\n",
       "\n",
       "    .dataframe thead th {\n",
       "        text-align: right;\n",
       "    }\n",
       "</style>\n",
       "<table border=\"1\" class=\"dataframe\">\n",
       "  <thead>\n",
       "    <tr style=\"text-align: right;\">\n",
       "      <th></th>\n",
       "      <th>meantemp</th>\n",
       "      <th>humidity</th>\n",
       "      <th>wind_speed</th>\n",
       "      <th>meanpressure</th>\n",
       "    </tr>\n",
       "  </thead>\n",
       "  <tbody>\n",
       "    <tr>\n",
       "      <th>84</th>\n",
       "      <td>29.100000</td>\n",
       "      <td>37.100000</td>\n",
       "      <td>17.590000</td>\n",
       "      <td>1010.200000</td>\n",
       "    </tr>\n",
       "    <tr>\n",
       "      <th>85</th>\n",
       "      <td>29.500000</td>\n",
       "      <td>38.625000</td>\n",
       "      <td>13.650000</td>\n",
       "      <td>1009.500000</td>\n",
       "    </tr>\n",
       "    <tr>\n",
       "      <th>86</th>\n",
       "      <td>29.888889</td>\n",
       "      <td>40.666667</td>\n",
       "      <td>8.844444</td>\n",
       "      <td>1009.000000</td>\n",
       "    </tr>\n",
       "    <tr>\n",
       "      <th>87</th>\n",
       "      <td>31.000000</td>\n",
       "      <td>34.500000</td>\n",
       "      <td>13.200000</td>\n",
       "      <td>1007.125000</td>\n",
       "    </tr>\n",
       "    <tr>\n",
       "      <th>88</th>\n",
       "      <td>29.285714</td>\n",
       "      <td>36.857143</td>\n",
       "      <td>10.585714</td>\n",
       "      <td>1007.142857</td>\n",
       "    </tr>\n",
       "  </tbody>\n",
       "</table>\n",
       "</div>"
      ],
      "text/plain": [
       "     meantemp   humidity  wind_speed  meanpressure\n",
       "84  29.100000  37.100000   17.590000   1010.200000\n",
       "85  29.500000  38.625000   13.650000   1009.500000\n",
       "86  29.888889  40.666667    8.844444   1009.000000\n",
       "87  31.000000  34.500000   13.200000   1007.125000\n",
       "88  29.285714  36.857143   10.585714   1007.142857"
      ]
     },
     "execution_count": 196,
     "metadata": {},
     "output_type": "execute_result"
    }
   ],
   "source": [
    "new_data.head()"
   ]
  },
  {
   "cell_type": "code",
   "execution_count": 218,
   "metadata": {},
   "outputs": [
    {
     "data": {
      "text/plain": [
       "(144, 4)"
      ]
     },
     "execution_count": 218,
     "metadata": {},
     "output_type": "execute_result"
    }
   ],
   "source": [
    "new_data.shape"
   ]
  },
  {
   "cell_type": "code",
   "execution_count": 219,
   "metadata": {},
   "outputs": [],
   "source": [
    "meantemp_scaled1 = scaler.fit_transform(new_data[['meantemp']])\n",
    "humidity_scaled1 = scaler2.fit_transform(new_data[['humidity']])\n",
    "windspeed_scaled1 = scaler3.fit_transform(new_data[['wind_speed']])\n",
    "meanpressure_scaled1 = scaler4.fit_transform(new_data[['meanpressure']])"
   ]
  },
  {
   "cell_type": "code",
   "execution_count": 221,
   "metadata": {},
   "outputs": [],
   "source": [
    "new_data_scaled = np.concatenate((meantemp_scaled1, humidity_scaled1, windspeed_scaled1, meanpressure_scaled1), axis=1)"
   ]
  },
  {
   "cell_type": "code",
   "execution_count": 222,
   "metadata": {},
   "outputs": [
    {
     "data": {
      "text/plain": [
       "((114, 30, 4), (114,), 3, 1)"
      ]
     },
     "execution_count": 222,
     "metadata": {},
     "output_type": "execute_result"
    }
   ],
   "source": [
    "x1=[]\n",
    "for i in range(new_data_scaled.shape[0]-30):\n",
    "    row = new_data_scaled[i:i+31]\n",
    "    x1.append(row)\n",
    "    \n",
    "x1=np.array(x1)\n",
    "X_test = x1[:,:-1]\n",
    "Y_test = x1[:,-1,0]\n",
    "X_test.shape ,Y_test.shape, X_test.ndim, Y_test.ndim"
   ]
  },
  {
   "cell_type": "code",
   "execution_count": 223,
   "metadata": {},
   "outputs": [],
   "source": [
    "X_test = X_test.reshape(-1,4,30)"
   ]
  },
  {
   "cell_type": "code",
   "execution_count": 224,
   "metadata": {},
   "outputs": [],
   "source": [
    "predictions = model.predict(X_test)\n",
    "predictions = scaler.inverse_transform(predictions) #converting the predictions to original scale again\n",
    "\n",
    "Y_test = Y_test.reshape(-1,1) #convert Y_test to same shape as predictions\n",
    "Y_test = scaler.inverse_transform(Y_test)"
   ]
  },
  {
   "cell_type": "code",
   "execution_count": 225,
   "metadata": {},
   "outputs": [
    {
     "data": {
      "text/plain": [
       "array([[15.91304348],\n",
       "       [18.5       ],\n",
       "       [17.11111111],\n",
       "       [18.7       ],\n",
       "       [18.38888889],\n",
       "       [19.31818182],\n",
       "       [14.70833333],\n",
       "       [15.68421053],\n",
       "       [14.57142857],\n",
       "       [12.11111111]])"
      ]
     },
     "execution_count": 225,
     "metadata": {},
     "output_type": "execute_result"
    }
   ],
   "source": [
    "#first 10 actual values\n",
    "Y_test[:10]"
   ]
  },
  {
   "cell_type": "code",
   "execution_count": 226,
   "metadata": {},
   "outputs": [
    {
     "data": {
      "text/plain": [
       "array([[31.292461],\n",
       "       [25.126621],\n",
       "       [22.485718],\n",
       "       [20.492184],\n",
       "       [20.282936],\n",
       "       [18.983347],\n",
       "       [17.776478],\n",
       "       [17.33219 ],\n",
       "       [16.902037],\n",
       "       [14.862027]], dtype=float32)"
      ]
     },
     "execution_count": 226,
     "metadata": {},
     "output_type": "execute_result"
    }
   ],
   "source": [
    "#first 10 predicted values\n",
    "predictions[:10]"
   ]
  },
  {
   "cell_type": "code",
   "execution_count": 232,
   "metadata": {},
   "outputs": [
    {
     "ename": "TypeError",
     "evalue": "'numpy.float64' object is not callable",
     "output_type": "error",
     "traceback": [
      "\u001b[1;31m---------------------------------------------------------------------------\u001b[0m",
      "\u001b[1;31mTypeError\u001b[0m                                 Traceback (most recent call last)",
      "\u001b[1;32m~\\AppData\\Local\\Temp\\ipykernel_16580\\1217478659.py\u001b[0m in \u001b[0;36m<module>\u001b[1;34m\u001b[0m\n\u001b[0;32m      1\u001b[0m \u001b[1;31m#Coefficient of Determination\u001b[0m\u001b[1;33m\u001b[0m\u001b[1;33m\u001b[0m\u001b[1;33m\u001b[0m\u001b[0m\n\u001b[1;32m----> 2\u001b[1;33m \u001b[0mr2_score\u001b[0m \u001b[1;33m=\u001b[0m \u001b[0mr2_score\u001b[0m\u001b[1;33m(\u001b[0m\u001b[0mY_test\u001b[0m\u001b[1;33m,\u001b[0m \u001b[0mpredictions\u001b[0m\u001b[1;33m)\u001b[0m\u001b[1;33m\u001b[0m\u001b[1;33m\u001b[0m\u001b[0m\n\u001b[0m\u001b[0;32m      3\u001b[0m \u001b[0mr2_score\u001b[0m\u001b[1;33m\u001b[0m\u001b[1;33m\u001b[0m\u001b[0m\n",
      "\u001b[1;31mTypeError\u001b[0m: 'numpy.float64' object is not callable"
     ]
    }
   ],
   "source": [
    "#Coefficient of Determination\n",
    "r2_score = r2_score(Y_test, predictions)\n",
    "r2_score"
   ]
  },
  {
   "cell_type": "code",
   "execution_count": 229,
   "metadata": {},
   "outputs": [
    {
     "data": {
      "text/plain": [
       "1.8898375937177214"
      ]
     },
     "execution_count": 229,
     "metadata": {},
     "output_type": "execute_result"
    }
   ],
   "source": [
    "#Mean Absolute Error \n",
    "mae = mean_absolute_error(Y_test, predictions)\n",
    "mae"
   ]
  },
  {
   "cell_type": "code",
   "execution_count": 230,
   "metadata": {},
   "outputs": [
    {
     "data": {
      "text/plain": [
       "2.6436636026886395"
      ]
     },
     "execution_count": 230,
     "metadata": {},
     "output_type": "execute_result"
    }
   ],
   "source": [
    "#Root Mean Square Error\n",
    "mse = mean_squared_error(Y_test, predictions)\n",
    "np.sqrt(mse)"
   ]
  },
  {
   "cell_type": "code",
   "execution_count": 231,
   "metadata": {},
   "outputs": [
    {
     "data": {
      "image/png": "[encoded data removed]",
      "text/plain": [
       "<Figure size 640x480 with 1 Axes>"
      ]
     },
     "metadata": {},
     "output_type": "display_data"
    }
   ],
   "source": [
    "plt.plot(Y_test, label='Actual Temperature', color='green')\n",
    "plt.plot(predictions, label='Predicted Temperature', color='red')\n",
    "plt.legend(loc='best')\n",
    "plt.xlabel('Day')\n",
    "plt.ylabel('Mean Temperature')\n",
    "plt.show()"
   ]
  },
  {
   "cell_type": "code",
   "execution_count": null,
   "metadata": {},
   "outputs": [],
   "source": []
  },
  {
   "cell_type": "code",
   "execution_count": null,
   "metadata": {},
   "outputs": [],
   "source": []
  },
  {
   "cell_type": "code",
   "execution_count": null,
   "metadata": {},
   "outputs": [],
   "source": []
  },
  {
   "cell_type": "code",
   "execution_count": null,
   "metadata": {},
   "outputs": [],
   "source": []
  },
  {
   "cell_type": "code",
   "execution_count": null,
   "metadata": {},
   "outputs": [],
   "source": []
  }
 ],
 "metadata": {
  "kernelspec": {
   "display_name": "lian1",
   "language": "python",
   "name": "python3"
  },
  "language_info": {
   "codemirror_mode": {
    "name": "ipython",
    "version": 3
   },
   "file_extension": ".py",
   "mimetype": "text/x-python",
   "name": "python",
   "nbconvert_exporter": "python",
   "pygments_lexer": "ipython3",
   "version": "3.7.16"
  },
  "orig_nbformat": 4
 },
 "nbformat": 4,
 "nbformat_minor": 2
}
