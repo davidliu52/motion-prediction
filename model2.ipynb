{
 "cells": [
  {
   "cell_type": "code",
   "execution_count": 70,
   "metadata": {},
   "outputs": [],
   "source": [
    "import numpy as np # linear algebra\n",
    "import pandas as pd # data processing, CSV file I/O (e.g. pd.read_csv)\n",
    "import matplotlib.pyplot as plt\n",
    "from sklearn.preprocessing import MinMaxScaler\n",
    "from tensorflow.keras.models import Sequential\n",
    "from tensorflow.keras.layers import LSTM, Dense, Dropout\n",
    "\n",
    "from sklearn.metrics import r2_score\n",
    "from sklearn.metrics import mean_squared_error\n",
    "from sklearn.metrics import mean_absolute_error"
   ]
  },
  {
   "cell_type": "code",
   "execution_count": 71,
   "metadata": {},
   "outputs": [],
   "source": [
    "import mlflow\n",
    "import tensorflow as tf\n",
    "\n"
   ]
  },
  {
   "cell_type": "code",
   "execution_count": 72,
   "metadata": {},
   "outputs": [],
   "source": [
    "data = pd.read_csv(r'D:\\studydata\\machine bild learn\\LSTM\\archive\\DailyDelhiClimateTrain.csv')"
   ]
  },
  {
   "cell_type": "code",
   "execution_count": 73,
   "metadata": {},
   "outputs": [
    {
     "data": {
      "text/html": [
       "<div>\n",
       "<style scoped>\n",
       "    .dataframe tbody tr th:only-of-type {\n",
       "        vertical-align: middle;\n",
       "    }\n",
       "\n",
       "    .dataframe tbody tr th {\n",
       "        vertical-align: top;\n",
       "    }\n",
       "\n",
       "    .dataframe thead th {\n",
       "        text-align: right;\n",
       "    }\n",
       "</style>\n",
       "<table border=\"1\" class=\"dataframe\">\n",
       "  <thead>\n",
       "    <tr style=\"text-align: right;\">\n",
       "      <th></th>\n",
       "      <th>date</th>\n",
       "      <th>meantemp</th>\n",
       "      <th>humidity</th>\n",
       "      <th>wind_speed</th>\n",
       "      <th>meanpressure</th>\n",
       "    </tr>\n",
       "  </thead>\n",
       "  <tbody>\n",
       "    <tr>\n",
       "      <th>0</th>\n",
       "      <td>2013-01-01</td>\n",
       "      <td>10.000000</td>\n",
       "      <td>84.500000</td>\n",
       "      <td>0.000000</td>\n",
       "      <td>1015.666667</td>\n",
       "    </tr>\n",
       "    <tr>\n",
       "      <th>1</th>\n",
       "      <td>2013-01-02</td>\n",
       "      <td>7.400000</td>\n",
       "      <td>92.000000</td>\n",
       "      <td>2.980000</td>\n",
       "      <td>1017.800000</td>\n",
       "    </tr>\n",
       "    <tr>\n",
       "      <th>2</th>\n",
       "      <td>2013-01-03</td>\n",
       "      <td>7.166667</td>\n",
       "      <td>87.000000</td>\n",
       "      <td>4.633333</td>\n",
       "      <td>1018.666667</td>\n",
       "    </tr>\n",
       "    <tr>\n",
       "      <th>3</th>\n",
       "      <td>2013-01-04</td>\n",
       "      <td>8.666667</td>\n",
       "      <td>71.333333</td>\n",
       "      <td>1.233333</td>\n",
       "      <td>1017.166667</td>\n",
       "    </tr>\n",
       "    <tr>\n",
       "      <th>4</th>\n",
       "      <td>2013-01-05</td>\n",
       "      <td>6.000000</td>\n",
       "      <td>86.833333</td>\n",
       "      <td>3.700000</td>\n",
       "      <td>1016.500000</td>\n",
       "    </tr>\n",
       "  </tbody>\n",
       "</table>\n",
       "</div>"
      ],
      "text/plain": [
       "         date   meantemp   humidity  wind_speed  meanpressure\n",
       "0  2013-01-01  10.000000  84.500000    0.000000   1015.666667\n",
       "1  2013-01-02   7.400000  92.000000    2.980000   1017.800000\n",
       "2  2013-01-03   7.166667  87.000000    4.633333   1018.666667\n",
       "3  2013-01-04   8.666667  71.333333    1.233333   1017.166667\n",
       "4  2013-01-05   6.000000  86.833333    3.700000   1016.500000"
      ]
     },
     "execution_count": 73,
     "metadata": {},
     "output_type": "execute_result"
    }
   ],
   "source": [
    "data.head()"
   ]
  },
  {
   "cell_type": "code",
   "execution_count": null,
   "metadata": {},
   "outputs": [],
   "source": []
  },
  {
   "cell_type": "code",
   "execution_count": 74,
   "metadata": {},
   "outputs": [],
   "source": [
    "\n",
    "data = data.drop(data.index[-1])\n",
    "\n",
    "data=data.drop(columns=['date'])\n"
   ]
  },
  {
   "cell_type": "code",
   "execution_count": 75,
   "metadata": {},
   "outputs": [
    {
     "data": {
      "text/plain": [
       "meantemp        0\n",
       "humidity        0\n",
       "wind_speed      0\n",
       "meanpressure    0\n",
       "dtype: int64"
      ]
     },
     "execution_count": 75,
     "metadata": {},
     "output_type": "execute_result"
    }
   ],
   "source": [
    "data.isnull().sum()"
   ]
  },
  {
   "cell_type": "code",
   "execution_count": 76,
   "metadata": {},
   "outputs": [
    {
     "data": {
      "image/png": "[encoded data removed]",
      "text/plain": [
       "<Figure size 432x288 with 1 Axes>"
      ]
     },
     "metadata": {
      "needs_background": "light"
     },
     "output_type": "display_data"
    }
   ],
   "source": [
    "plt.boxplot(data['meantemp'],vert=False)\n",
    "plt.show()"
   ]
  },
  {
   "cell_type": "code",
   "execution_count": 77,
   "metadata": {},
   "outputs": [
    {
     "data": {
      "image/png": "[encoded data removed]",
      "text/plain": [
       "<Figure size 432x288 with 1 Axes>"
      ]
     },
     "metadata": {
      "needs_background": "light"
     },
     "output_type": "display_data"
    }
   ],
   "source": [
    "plt.boxplot(data['humidity'],vert=False)\n",
    "plt.show()"
   ]
  },
  {
   "cell_type": "code",
   "execution_count": 78,
   "metadata": {},
   "outputs": [
    {
     "data": {
      "image/png": "[encoded data removed]",
      "text/plain": [
       "<Figure size 432x288 with 1 Axes>"
      ]
     },
     "metadata": {
      "needs_background": "light"
     },
     "output_type": "display_data"
    }
   ],
   "source": [
    "plt.boxplot(data['wind_speed'], vert=False)\n",
    "plt.show()"
   ]
  },
  {
   "cell_type": "code",
   "execution_count": 79,
   "metadata": {},
   "outputs": [
    {
     "data": {
      "text/plain": [
       "count    1461.000000\n",
       "mean        6.806865\n",
       "std         4.559688\n",
       "min         0.000000\n",
       "25%         3.475000\n",
       "50%         6.250000\n",
       "75%         9.250000\n",
       "max        42.220000\n",
       "Name: wind_speed, dtype: float64"
      ]
     },
     "execution_count": 79,
     "metadata": {},
     "output_type": "execute_result"
    }
   ],
   "source": [
    "data['wind_speed'].describe()"
   ]
  },
  {
   "cell_type": "code",
   "execution_count": 80,
   "metadata": {},
   "outputs": [
    {
     "name": "stdout",
     "output_type": "stream",
     "text": [
      "5.875000000000001\n"
     ]
    },
    {
     "data": {
      "text/plain": [
       "0       5.875000\n",
       "1       2.980000\n",
       "2       4.633333\n",
       "3       1.233333\n",
       "4       3.700000\n",
       "          ...   \n",
       "1456    8.335000\n",
       "1457    3.547826\n",
       "1458    6.000000\n",
       "1459    6.266667\n",
       "1460    7.325000\n",
       "Name: wind_speed, Length: 1461, dtype: float64"
      ]
     },
     "execution_count": 80,
     "metadata": {},
     "output_type": "execute_result"
    }
   ],
   "source": [
    "median = data.loc[data['wind_speed']<15, 'wind_speed'].median()\n",
    "print(median)\n",
    "data.loc[data['wind_speed']<1,'wind_speed'] = np.nan\n",
    "data.loc[data['wind_speed']>15,'wind_speed'] = np.nan\n",
    "data['wind_speed'].fillna(median,inplace=True)\n",
    "data['wind_speed']"
   ]
  },
  {
   "cell_type": "code",
   "execution_count": 81,
   "metadata": {},
   "outputs": [
    {
     "data": {
      "image/png": "[encoded data removed]",
      "text/plain": [
       "<Figure size 432x288 with 1 Axes>"
      ]
     },
     "metadata": {
      "needs_background": "light"
     },
     "output_type": "display_data"
    }
   ],
   "source": [
    "plt.boxplot(data['wind_speed'],vert=False)\n",
    "plt.show()"
   ]
  },
  {
   "cell_type": "code",
   "execution_count": 82,
   "metadata": {},
   "outputs": [
    {
     "data": {
      "image/png": "[encoded data removed]",
      "text/plain": [
       "<Figure size 432x288 with 1 Axes>"
      ]
     },
     "metadata": {
      "needs_background": "light"
     },
     "output_type": "display_data"
    }
   ],
   "source": [
    "plt.boxplot(data['meanpressure'], vert=False)\n",
    "plt.show()"
   ]
  },
  {
   "cell_type": "code",
   "execution_count": 83,
   "metadata": {},
   "outputs": [
    {
     "data": {
      "text/plain": [
       "count    1461.000000\n",
       "mean     1011.101197\n",
       "std       180.293335\n",
       "min        -3.041667\n",
       "25%      1001.571429\n",
       "50%      1008.555556\n",
       "75%      1014.937500\n",
       "max      7679.333333\n",
       "Name: meanpressure, dtype: float64"
      ]
     },
     "execution_count": 83,
     "metadata": {},
     "output_type": "execute_result"
    }
   ],
   "source": [
    "data['meanpressure'].describe()"
   ]
  },
  {
   "cell_type": "code",
   "execution_count": 84,
   "metadata": {},
   "outputs": [],
   "source": [
    "median1 = data.loc[data['meanpressure']<1050, 'meanpressure'].median()\n",
    "data.loc[data['meanpressure'] > 1050 , 'meanpressure'] = np.nan #atmospheric pressure usually lies between 760 and 1050 atm\n",
    "data.loc[data['meanpressure'] < 760 , 'meanpressure'] = np.nan\n",
    "data['meanpressure'].fillna(median1,inplace=True)"
   ]
  },
  {
   "cell_type": "code",
   "execution_count": 85,
   "metadata": {},
   "outputs": [
    {
     "data": {
      "image/png": "[encoded data removed]",
      "text/plain": [
       "<Figure size 432x288 with 1 Axes>"
      ]
     },
     "metadata": {
      "needs_background": "light"
     },
     "output_type": "display_data"
    }
   ],
   "source": [
    "#Boxplot after replacing necessary outliers from meanpressure\n",
    "plt.boxplot(data['meanpressure'], vert=False)\n",
    "plt.show()"
   ]
  },
  {
   "cell_type": "code",
   "execution_count": 86,
   "metadata": {},
   "outputs": [
    {
     "data": {
      "image/png": "[encoded data removed]",
      "text/plain": [
       "<Figure size 432x288 with 1 Axes>"
      ]
     },
     "metadata": {
      "needs_background": "light"
     },
     "output_type": "display_data"
    }
   ],
   "source": [
    "plt.plot(data['meantemp'])\n",
    "plt.xlabel('Day')\n",
    "plt.ylabel('Mean Temperature')\n",
    "plt.show()"
   ]
  },
  {
   "cell_type": "code",
   "execution_count": 87,
   "metadata": {},
   "outputs": [],
   "source": [
    "from sklearn.preprocessing import MinMaxScaler\n",
    "scaler=MinMaxScaler()\n",
    "scaler2=MinMaxScaler()\n",
    "scaler3=MinMaxScaler()\n",
    "scaler4=MinMaxScaler()\n",
    "\n",
    "meantemp_scaled = scaler.fit_transform(data[['meantemp']])\n",
    "humidity_scaled = scaler2.fit_transform(data[['humidity']])\n",
    "windspeed_scaled = scaler3.fit_transform(data[['wind_speed']])\n",
    "meanpressure_scaled = scaler4.fit_transform(data[['meanpressure']])"
   ]
  },
  {
   "cell_type": "code",
   "execution_count": 88,
   "metadata": {},
   "outputs": [
    {
     "name": "stdout",
     "output_type": "stream",
     "text": [
      "1461\n",
      "1461\n",
      "1461\n",
      "1461\n"
     ]
    }
   ],
   "source": [
    "print(len(data['meantemp']))\n",
    "print(len(data['humidity']))\n",
    "print(len(data['wind_speed']))\n",
    "print(len(data['meanpressure']))"
   ]
  },
  {
   "cell_type": "code",
   "execution_count": null,
   "metadata": {},
   "outputs": [],
   "source": []
  },
  {
   "cell_type": "code",
   "execution_count": 89,
   "metadata": {},
   "outputs": [
    {
     "data": {
      "text/plain": [
       "(1461, 4)"
      ]
     },
     "execution_count": 89,
     "metadata": {},
     "output_type": "execute_result"
    }
   ],
   "source": [
    "X_scaled = np.concatenate((meantemp_scaled, humidity_scaled, windspeed_scaled, meanpressure_scaled), axis=1)\n",
    "X_scaled.shape"
   ]
  },
  {
   "cell_type": "code",
   "execution_count": 90,
   "metadata": {},
   "outputs": [
    {
     "name": "stdout",
     "output_type": "stream",
     "text": [
      "range(0, 1431)\n",
      "(1431, 31, 4)\n",
      "-----------------\n",
      "(1431, 30, 4)\n",
      "(1431,)\n"
     ]
    },
    {
     "data": {
      "text/plain": [
       "((1431, 30, 4), (1431,), 3, 1)"
      ]
     },
     "execution_count": 90,
     "metadata": {},
     "output_type": "execute_result"
    }
   ],
   "source": [
    "x=[]\n",
    "print(range(X_scaled.shape[0]-30))\n",
    "for i in range(X_scaled.shape[0]-30):\n",
    "   \n",
    "    row = X_scaled[i:i+31]\n",
    "    \n",
    "    x.append(row)\n",
    "\n",
    "x=np.array(x)\n",
    "print(x.shape)\n",
    "print('-----------------')\n",
    "X_train = x[:,:-1] #1st 30 values will be considered as x values\n",
    "print(X_train.shape)\n",
    "Y_train = x[:,-1,0] #last value will be considered as our y value\n",
    "print(Y_train.shape)\n",
    "X_train.shape ,Y_train.shape, X_train.ndim, Y_train.ndim"
   ]
  },
  {
   "cell_type": "code",
   "execution_count": 91,
   "metadata": {},
   "outputs": [],
   "source": [
    "X_train = X_train.reshape(-1,4,30)\n"
   ]
  },
  {
   "cell_type": "code",
   "execution_count": 92,
   "metadata": {},
   "outputs": [],
   "source": [
    "\n",
    "from tensorflow import keras\n"
   ]
  },
  {
   "cell_type": "code",
   "execution_count": 93,
   "metadata": {},
   "outputs": [],
   "source": [
    "data_test = pd.read_csv(r'D:\\studydata\\machine bild learn\\LSTM\\archive\\DailyDelhiClimateTest.csv')\n",
    "new_data = pd.DataFrame()\n",
    "new_data = (data.tail(30)).append(data_test)\n",
    "new_data = new_data.drop(columns=['date'])\n",
    "meantemp_scaled1 = scaler.fit_transform(new_data[['meantemp']])\n",
    "humidity_scaled1 = scaler2.fit_transform(new_data[['humidity']])\n",
    "windspeed_scaled1 = scaler3.fit_transform(new_data[['wind_speed']])\n",
    "meanpressure_scaled1 = scaler4.fit_transform(new_data[['meanpressure']])\n",
    "new_data_scaled = np.concatenate((meantemp_scaled1, humidity_scaled1, windspeed_scaled1, meanpressure_scaled1), axis=1)"
   ]
  },
  {
   "cell_type": "code",
   "execution_count": 94,
   "metadata": {},
   "outputs": [],
   "source": [
    "x1=[]\n",
    "for i in range(new_data_scaled.shape[0]-30):\n",
    "    row = new_data_scaled[i:i+31]\n",
    "    x1.append(row)\n",
    "    \n",
    "x1=np.array(x1)\n",
    "X_test = x1[:,:-1]\n",
    "Y_test = x1[:,-1,0]\n",
    "X_test = X_test.reshape(-1,4,30)"
   ]
  },
  {
   "cell_type": "code",
   "execution_count": 95,
   "metadata": {},
   "outputs": [
    {
     "name": "stdout",
     "output_type": "stream",
     "text": [
      "Epoch 1/20\n",
      "45/45 [==============================] - 3s 8ms/step - loss: 0.0771\n",
      "Epoch 2/20\n",
      "45/45 [==============================] - 0s 8ms/step - loss: 0.0104\n",
      "Epoch 3/20\n",
      "45/45 [==============================] - 0s 8ms/step - loss: 0.0093\n",
      "Epoch 4/20\n",
      "45/45 [==============================] - 0s 8ms/step - loss: 0.0088\n",
      "Epoch 5/20\n",
      "45/45 [==============================] - 0s 8ms/step - loss: 0.0085\n",
      "Epoch 6/20\n",
      "45/45 [==============================] - 0s 8ms/step - loss: 0.0088\n",
      "Epoch 7/20\n",
      "45/45 [==============================] - 0s 8ms/step - loss: 0.0076\n",
      "Epoch 8/20\n",
      "45/45 [==============================] - 0s 8ms/step - loss: 0.0069\n",
      "Epoch 9/20\n",
      "45/45 [==============================] - 0s 8ms/step - loss: 0.0065\n",
      "Epoch 10/20\n",
      "45/45 [==============================] - 0s 8ms/step - loss: 0.0058\n",
      "Epoch 11/20\n",
      "45/45 [==============================] - 0s 8ms/step - loss: 0.0057\n",
      "Epoch 12/20\n",
      "45/45 [==============================] - 0s 8ms/step - loss: 0.0053\n",
      "Epoch 13/20\n",
      "45/45 [==============================] - 0s 8ms/step - loss: 0.0051\n",
      "Epoch 14/20\n",
      "45/45 [==============================] - 0s 8ms/step - loss: 0.0048\n",
      "Epoch 15/20\n",
      "45/45 [==============================] - 0s 8ms/step - loss: 0.0044\n",
      "Epoch 16/20\n",
      "45/45 [==============================] - 0s 8ms/step - loss: 0.0043\n",
      "Epoch 17/20\n",
      "45/45 [==============================] - 0s 8ms/step - loss: 0.0040\n",
      "Epoch 18/20\n",
      "45/45 [==============================] - 0s 8ms/step - loss: 0.0037\n",
      "Epoch 19/20\n",
      "45/45 [==============================] - 0s 8ms/step - loss: 0.0035\n",
      "Epoch 20/20\n",
      "45/45 [==============================] - 0s 8ms/step - loss: 0.0044\n"
     ]
    }
   ],
   "source": [
    "mlflow.set_tracking_uri(\"http://127.0.0.1:5000\") \n",
    "mlflow.set_experiment('http_metrics_test') \n",
    "with mlflow.start_run():\n",
    "   model=Sequential()\n",
    "   model.add(LSTM(100, input_shape=(4,30), return_sequences=True))\n",
    "   model.add(LSTM(100, return_sequences=True, recurrent_dropout=0.2))\n",
    "   model.add(LSTM(100, return_sequences=True, recurrent_dropout=0.2))\n",
    "   model.add(LSTM(100, return_sequences=False, recurrent_dropout=0.2))\n",
    "   model.add(Dense(1, activation='linear'))\n",
    "   \n",
    "   optimizer = keras.optimizers.Adam(learning_rate=0.001)\n",
    "   \n",
    "   model.compile(optimizer=optimizer, loss='mean_squared_error')\n",
    "   batch_size=32\n",
    "   epochs=20\n",
    "\n",
    "   history=model.fit(X_train, Y_train, batch_size=batch_size, epochs=epochs)\n",
    "\n",
    "\n",
    "   history_dict = history.history  # 获取训练的数据字典\n",
    "   \n",
    "\n",
    "   predictions = model.predict(X_test)\n",
    "   predictions = scaler.inverse_transform(predictions) #converting the predictions to original scale again\n",
    "\n",
    "   Y_test = Y_test.reshape(-1,1) #convert Y_test to same shape as predictions\n",
    "   Y_test = scaler.inverse_transform(Y_test)\n",
    "   r2_score_value  = r2_score(Y_test, predictions)\n",
    "   mae = mean_absolute_error(Y_test, predictions)\n",
    "   mse = mean_squared_error(Y_test, predictions)\n",
    "\n",
    "   mlflow.log_metric(\"r2_score\", r2_score_value)\n",
    "   mlflow.log_metric(\"mae\", mae)\n",
    "   mlflow.log_metric(\"mse\", mse)\n",
    "   mlflow.log_param(\"epochs\", epochs)\n",
    "\n",
    "   mlflow.log_param(\"batch_size\", batch_size)\n",
    "mlflow.end_run()\n"
   ]
  },
  {
   "cell_type": "code",
   "execution_count": 97,
   "metadata": {},
   "outputs": [
    {
     "data": {
      "image/png": "[encoded data removed]",
      "text/plain": [
       "<Figure size 432x288 with 1 Axes>"
      ]
     },
     "metadata": {
      "needs_background": "light"
     },
     "output_type": "display_data"
    }
   ],
   "source": [
    "#（10）获取训练信息\n",
    "history_dict = history.history  # 获取训练的数据字典\n",
    "train_loss = history_dict['loss']  # 训练集损失\n",
    "#accuracy = history_dict['accuracy']  # 验证集损失\n",
    " \n",
    "#（11）绘制训练损失和验证损失\n",
    "plt.figure()\n",
    "plt.plot(range(20), train_loss, label='train_loss')  # 训练集损失\n",
    "#plt.plot(range(5), accuracy, label='accuracy')  # 验证集损失\n",
    "plt.legend()  # 显示标签\n",
    "plt.xlabel('epochs')\n",
    "plt.ylabel('loss')\n",
    "plt.show()"
   ]
  },
  {
   "cell_type": "code",
   "execution_count": null,
   "metadata": {},
   "outputs": [],
   "source": []
  },
  {
   "attachments": {},
   "cell_type": "markdown",
   "metadata": {},
   "source": [
    "## Reading Testing Data"
   ]
  },
  {
   "cell_type": "code",
   "execution_count": null,
   "metadata": {},
   "outputs": [],
   "source": [
    "data_test = pd.read_csv(r'D:\\studydata\\machine bild learn\\LSTM\\archive\\DailyDelhiClimateTest.csv')"
   ]
  },
  {
   "cell_type": "code",
   "execution_count": null,
   "metadata": {},
   "outputs": [
    {
     "data": {
      "text/html": [
       "<div>\n",
       "<style scoped>\n",
       "    .dataframe tbody tr th:only-of-type {\n",
       "        vertical-align: middle;\n",
       "    }\n",
       "\n",
       "    .dataframe tbody tr th {\n",
       "        vertical-align: top;\n",
       "    }\n",
       "\n",
       "    .dataframe thead th {\n",
       "        text-align: right;\n",
       "    }\n",
       "</style>\n",
       "<table border=\"1\" class=\"dataframe\">\n",
       "  <thead>\n",
       "    <tr style=\"text-align: right;\">\n",
       "      <th></th>\n",
       "      <th>date</th>\n",
       "      <th>meantemp</th>\n",
       "      <th>humidity</th>\n",
       "      <th>wind_speed</th>\n",
       "      <th>meanpressure</th>\n",
       "    </tr>\n",
       "  </thead>\n",
       "  <tbody>\n",
       "    <tr>\n",
       "      <th>0</th>\n",
       "      <td>2017-01-01</td>\n",
       "      <td>15.913043</td>\n",
       "      <td>85.869565</td>\n",
       "      <td>2.743478</td>\n",
       "      <td>59.000000</td>\n",
       "    </tr>\n",
       "    <tr>\n",
       "      <th>1</th>\n",
       "      <td>2017-01-02</td>\n",
       "      <td>18.500000</td>\n",
       "      <td>77.222222</td>\n",
       "      <td>2.894444</td>\n",
       "      <td>1018.277778</td>\n",
       "    </tr>\n",
       "    <tr>\n",
       "      <th>2</th>\n",
       "      <td>2017-01-03</td>\n",
       "      <td>17.111111</td>\n",
       "      <td>81.888889</td>\n",
       "      <td>4.016667</td>\n",
       "      <td>1018.333333</td>\n",
       "    </tr>\n",
       "    <tr>\n",
       "      <th>3</th>\n",
       "      <td>2017-01-04</td>\n",
       "      <td>18.700000</td>\n",
       "      <td>70.050000</td>\n",
       "      <td>4.545000</td>\n",
       "      <td>1015.700000</td>\n",
       "    </tr>\n",
       "    <tr>\n",
       "      <th>4</th>\n",
       "      <td>2017-01-05</td>\n",
       "      <td>18.388889</td>\n",
       "      <td>74.944444</td>\n",
       "      <td>3.300000</td>\n",
       "      <td>1014.333333</td>\n",
       "    </tr>\n",
       "  </tbody>\n",
       "</table>\n",
       "</div>"
      ],
      "text/plain": [
       "         date   meantemp   humidity  wind_speed  meanpressure\n",
       "0  2017-01-01  15.913043  85.869565    2.743478     59.000000\n",
       "1  2017-01-02  18.500000  77.222222    2.894444   1018.277778\n",
       "2  2017-01-03  17.111111  81.888889    4.016667   1018.333333\n",
       "3  2017-01-04  18.700000  70.050000    4.545000   1015.700000\n",
       "4  2017-01-05  18.388889  74.944444    3.300000   1014.333333"
      ]
     },
     "execution_count": 56,
     "metadata": {},
     "output_type": "execute_result"
    }
   ],
   "source": [
    "data_test.head()\n"
   ]
  },
  {
   "cell_type": "code",
   "execution_count": null,
   "metadata": {},
   "outputs": [
    {
     "data": {
      "text/html": [
       "<div>\n",
       "<style scoped>\n",
       "    .dataframe tbody tr th:only-of-type {\n",
       "        vertical-align: middle;\n",
       "    }\n",
       "\n",
       "    .dataframe tbody tr th {\n",
       "        vertical-align: top;\n",
       "    }\n",
       "\n",
       "    .dataframe thead th {\n",
       "        text-align: right;\n",
       "    }\n",
       "</style>\n",
       "<table border=\"1\" class=\"dataframe\">\n",
       "  <thead>\n",
       "    <tr style=\"text-align: right;\">\n",
       "      <th></th>\n",
       "      <th>date</th>\n",
       "      <th>meantemp</th>\n",
       "      <th>humidity</th>\n",
       "      <th>wind_speed</th>\n",
       "      <th>meanpressure</th>\n",
       "    </tr>\n",
       "  </thead>\n",
       "  <tbody>\n",
       "    <tr>\n",
       "      <th>109</th>\n",
       "      <td>2017-04-20</td>\n",
       "      <td>34.500</td>\n",
       "      <td>27.500000</td>\n",
       "      <td>5.562500</td>\n",
       "      <td>998.625000</td>\n",
       "    </tr>\n",
       "    <tr>\n",
       "      <th>110</th>\n",
       "      <td>2017-04-21</td>\n",
       "      <td>34.250</td>\n",
       "      <td>39.375000</td>\n",
       "      <td>6.962500</td>\n",
       "      <td>999.875000</td>\n",
       "    </tr>\n",
       "    <tr>\n",
       "      <th>111</th>\n",
       "      <td>2017-04-22</td>\n",
       "      <td>32.900</td>\n",
       "      <td>40.900000</td>\n",
       "      <td>8.890000</td>\n",
       "      <td>1001.600000</td>\n",
       "    </tr>\n",
       "    <tr>\n",
       "      <th>112</th>\n",
       "      <td>2017-04-23</td>\n",
       "      <td>32.875</td>\n",
       "      <td>27.500000</td>\n",
       "      <td>9.962500</td>\n",
       "      <td>1002.125000</td>\n",
       "    </tr>\n",
       "    <tr>\n",
       "      <th>113</th>\n",
       "      <td>2017-04-24</td>\n",
       "      <td>32.000</td>\n",
       "      <td>27.142857</td>\n",
       "      <td>12.157143</td>\n",
       "      <td>1004.142857</td>\n",
       "    </tr>\n",
       "  </tbody>\n",
       "</table>\n",
       "</div>"
      ],
      "text/plain": [
       "           date  meantemp   humidity  wind_speed  meanpressure\n",
       "109  2017-04-20    34.500  27.500000    5.562500    998.625000\n",
       "110  2017-04-21    34.250  39.375000    6.962500    999.875000\n",
       "111  2017-04-22    32.900  40.900000    8.890000   1001.600000\n",
       "112  2017-04-23    32.875  27.500000    9.962500   1002.125000\n",
       "113  2017-04-24    32.000  27.142857   12.157143   1004.142857"
      ]
     },
     "execution_count": 57,
     "metadata": {},
     "output_type": "execute_result"
    }
   ],
   "source": [
    "data_test.tail()"
   ]
  },
  {
   "cell_type": "code",
   "execution_count": null,
   "metadata": {},
   "outputs": [],
   "source": [
    "new_data = pd.DataFrame()\n",
    "new_data = (data.tail(30)).append(data_test)\n",
    "new_data = new_data.drop(columns=['date'])"
   ]
  },
  {
   "cell_type": "code",
   "execution_count": null,
   "metadata": {},
   "outputs": [
    {
     "data": {
      "text/html": [
       "<div>\n",
       "<style scoped>\n",
       "    .dataframe tbody tr th:only-of-type {\n",
       "        vertical-align: middle;\n",
       "    }\n",
       "\n",
       "    .dataframe tbody tr th {\n",
       "        vertical-align: top;\n",
       "    }\n",
       "\n",
       "    .dataframe thead th {\n",
       "        text-align: right;\n",
       "    }\n",
       "</style>\n",
       "<table border=\"1\" class=\"dataframe\">\n",
       "  <thead>\n",
       "    <tr style=\"text-align: right;\">\n",
       "      <th></th>\n",
       "      <th>meantemp</th>\n",
       "      <th>humidity</th>\n",
       "      <th>wind_speed</th>\n",
       "      <th>meanpressure</th>\n",
       "    </tr>\n",
       "  </thead>\n",
       "  <tbody>\n",
       "    <tr>\n",
       "      <th>1431</th>\n",
       "      <td>19.208333</td>\n",
       "      <td>75.875000</td>\n",
       "      <td>4.945833</td>\n",
       "      <td>1017.750000</td>\n",
       "    </tr>\n",
       "    <tr>\n",
       "      <th>1432</th>\n",
       "      <td>21.208333</td>\n",
       "      <td>52.166667</td>\n",
       "      <td>5.866667</td>\n",
       "      <td>1019.333333</td>\n",
       "    </tr>\n",
       "    <tr>\n",
       "      <th>1433</th>\n",
       "      <td>18.900000</td>\n",
       "      <td>55.250000</td>\n",
       "      <td>5.666667</td>\n",
       "      <td>1019.700000</td>\n",
       "    </tr>\n",
       "    <tr>\n",
       "      <th>1434</th>\n",
       "      <td>18.636364</td>\n",
       "      <td>56.590909</td>\n",
       "      <td>4.952381</td>\n",
       "      <td>1017.045455</td>\n",
       "    </tr>\n",
       "    <tr>\n",
       "      <th>1435</th>\n",
       "      <td>18.538462</td>\n",
       "      <td>69.923077</td>\n",
       "      <td>2.503846</td>\n",
       "      <td>1017.961538</td>\n",
       "    </tr>\n",
       "  </tbody>\n",
       "</table>\n",
       "</div>"
      ],
      "text/plain": [
       "       meantemp   humidity  wind_speed  meanpressure\n",
       "1431  19.208333  75.875000    4.945833   1017.750000\n",
       "1432  21.208333  52.166667    5.866667   1019.333333\n",
       "1433  18.900000  55.250000    5.666667   1019.700000\n",
       "1434  18.636364  56.590909    4.952381   1017.045455\n",
       "1435  18.538462  69.923077    2.503846   1017.961538"
      ]
     },
     "execution_count": 59,
     "metadata": {},
     "output_type": "execute_result"
    }
   ],
   "source": [
    "new_data.head()"
   ]
  },
  {
   "cell_type": "code",
   "execution_count": null,
   "metadata": {},
   "outputs": [
    {
     "data": {
      "text/plain": [
       "(144, 4)"
      ]
     },
     "execution_count": 60,
     "metadata": {},
     "output_type": "execute_result"
    }
   ],
   "source": [
    "new_data.shape"
   ]
  },
  {
   "cell_type": "code",
   "execution_count": null,
   "metadata": {},
   "outputs": [],
   "source": [
    "meantemp_scaled1 = scaler.fit_transform(new_data[['meantemp']])\n",
    "humidity_scaled1 = scaler2.fit_transform(new_data[['humidity']])\n",
    "windspeed_scaled1 = scaler3.fit_transform(new_data[['wind_speed']])\n",
    "meanpressure_scaled1 = scaler4.fit_transform(new_data[['meanpressure']])"
   ]
  },
  {
   "cell_type": "code",
   "execution_count": null,
   "metadata": {},
   "outputs": [],
   "source": [
    "new_data_scaled = np.concatenate((meantemp_scaled1, humidity_scaled1, windspeed_scaled1, meanpressure_scaled1), axis=1)"
   ]
  },
  {
   "cell_type": "code",
   "execution_count": null,
   "metadata": {},
   "outputs": [
    {
     "data": {
      "text/plain": [
       "((114, 4, 30), (114, 1), 3, 2)"
      ]
     },
     "execution_count": 63,
     "metadata": {},
     "output_type": "execute_result"
    }
   ],
   "source": [
    "X_test.shape ,Y_test.shape, X_test.ndim, Y_test.ndim\n"
   ]
  },
  {
   "cell_type": "code",
   "execution_count": null,
   "metadata": {},
   "outputs": [],
   "source": [
    "predictions = model.predict(X_test)\n",
    "predictions = scaler.inverse_transform(predictions) #converting the predictions to original scale again\n",
    "\n",
    "Y_test = Y_test.reshape(-1,1) #convert Y_test to same shape as predictions\n",
    "Y_test = scaler.inverse_transform(Y_test)"
   ]
  },
  {
   "cell_type": "code",
   "execution_count": null,
   "metadata": {},
   "outputs": [
    {
     "data": {
      "text/plain": [
       "array([[384.95652174],\n",
       "       [445.75      ],\n",
       "       [413.11111111],\n",
       "       [450.45      ],\n",
       "       [443.13888889],\n",
       "       [464.97727273],\n",
       "       [356.64583333],\n",
       "       [379.57894737],\n",
       "       [353.42857143],\n",
       "       [295.61111111]])"
      ]
     },
     "execution_count": 65,
     "metadata": {},
     "output_type": "execute_result"
    }
   ],
   "source": [
    "#first 10 actual values\n",
    "Y_test[:10]"
   ]
  },
  {
   "cell_type": "code",
   "execution_count": null,
   "metadata": {},
   "outputs": [
    {
     "data": {
      "text/plain": [
       "array([[15.005445],\n",
       "       [17.551006],\n",
       "       [18.674063],\n",
       "       [17.591904],\n",
       "       [18.74385 ],\n",
       "       [17.133913],\n",
       "       [18.226442],\n",
       "       [16.305058],\n",
       "       [17.917673],\n",
       "       [16.77564 ]], dtype=float32)"
      ]
     },
     "execution_count": 66,
     "metadata": {},
     "output_type": "execute_result"
    }
   ],
   "source": [
    "#first 10 predicted values\n",
    "predictions[:10]"
   ]
  },
  {
   "cell_type": "code",
   "execution_count": null,
   "metadata": {},
   "outputs": [
    {
     "ename": "TypeError",
     "evalue": "'numpy.float64' object is not callable",
     "output_type": "error",
     "traceback": [
      "\u001b[1;31m---------------------------------------------------------------------------\u001b[0m",
      "\u001b[1;31mTypeError\u001b[0m                                 Traceback (most recent call last)",
      "\u001b[1;32m<ipython-input-67-83e7b8634b0d>\u001b[0m in \u001b[0;36m<module>\u001b[1;34m\u001b[0m\n\u001b[0;32m      1\u001b[0m \u001b[1;31m#Coefficient of Determination\u001b[0m\u001b[1;33m\u001b[0m\u001b[1;33m\u001b[0m\u001b[1;33m\u001b[0m\u001b[0m\n\u001b[1;32m----> 2\u001b[1;33m \u001b[0mr2_score\u001b[0m \u001b[1;33m=\u001b[0m \u001b[0mr2_score\u001b[0m\u001b[1;33m(\u001b[0m\u001b[0mY_test\u001b[0m\u001b[1;33m,\u001b[0m \u001b[0mpredictions\u001b[0m\u001b[1;33m)\u001b[0m\u001b[1;33m\u001b[0m\u001b[1;33m\u001b[0m\u001b[0m\n\u001b[0m\u001b[0;32m      3\u001b[0m \u001b[0mr2_score\u001b[0m\u001b[1;33m\u001b[0m\u001b[1;33m\u001b[0m\u001b[0m\n",
      "\u001b[1;31mTypeError\u001b[0m: 'numpy.float64' object is not callable"
     ]
    }
   ],
   "source": [
    "#Coefficient of Determination\n",
    "r2_score = r2_score(Y_test, predictions)\n",
    "r2_score"
   ]
  },
  {
   "cell_type": "code",
   "execution_count": null,
   "metadata": {},
   "outputs": [
    {
     "data": {
      "text/plain": [
       "1.747156027223421"
      ]
     },
     "execution_count": 136,
     "metadata": {},
     "output_type": "execute_result"
    }
   ],
   "source": [
    "#Mean Absolute Error \n",
    "mae = mean_absolute_error(Y_test, predictions)\n",
    "mae"
   ]
  },
  {
   "cell_type": "code",
   "execution_count": null,
   "metadata": {},
   "outputs": [
    {
     "data": {
      "text/plain": [
       "2.142085762752745"
      ]
     },
     "execution_count": 137,
     "metadata": {},
     "output_type": "execute_result"
    }
   ],
   "source": [
    "#Root Mean Square Error\n",
    "mse = mean_squared_error(Y_test, predictions)\n",
    "np.sqrt(mse)"
   ]
  },
  {
   "cell_type": "code",
   "execution_count": null,
   "metadata": {},
   "outputs": [
    {
     "data": {
      "image/png": "[encoded data removed]",
      "text/plain": [
       "<Figure size 432x288 with 1 Axes>"
      ]
     },
     "metadata": {
      "needs_background": "light"
     },
     "output_type": "display_data"
    }
   ],
   "source": [
    "plt.plot(Y_test, label='Actual Temperature', color='green')\n",
    "plt.plot(predictions, label='Predicted Temperature', color='red')\n",
    "plt.legend(loc='best')\n",
    "plt.xlabel('Day')\n",
    "plt.ylabel('Mean Temperature')\n",
    "plt.show()"
   ]
  },
  {
   "cell_type": "code",
   "execution_count": null,
   "metadata": {},
   "outputs": [],
   "source": []
  },
  {
   "cell_type": "code",
   "execution_count": null,
   "metadata": {},
   "outputs": [],
   "source": []
  },
  {
   "cell_type": "code",
   "execution_count": null,
   "metadata": {},
   "outputs": [],
   "source": []
  },
  {
   "cell_type": "code",
   "execution_count": null,
   "metadata": {},
   "outputs": [],
   "source": []
  },
  {
   "cell_type": "code",
   "execution_count": null,
   "metadata": {},
   "outputs": [],
   "source": []
  }
 ],
 "metadata": {
  "kernelspec": {
   "display_name": "lian1",
   "language": "python",
   "name": "python3"
  },
  "language_info": {
   "codemirror_mode": {
    "name": "ipython",
    "version": 3
   },
   "file_extension": ".py",
   "mimetype": "text/x-python",
   "name": "python",
   "nbconvert_exporter": "python",
   "pygments_lexer": "ipython3",
   "version": "3.6.13"
  },
  "orig_nbformat": 4
 },
 "nbformat": 4,
 "nbformat_minor": 2
}
